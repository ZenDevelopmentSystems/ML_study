{
 "cells": [
  {
   "cell_type": "code",
   "execution_count": 18,
   "metadata": {},
   "outputs": [
    {
     "name": "stdout",
     "output_type": "stream",
     "text": [
      "Version of networkx:  2.0\n"
     ]
    }
   ],
   "source": [
    "import networkx as nx\n",
    "import matplotlib.pyplot as plt\n",
    "print('Version of networkx: ', nx.__version__)"
   ]
  },
  {
   "cell_type": "markdown",
   "metadata": {},
   "source": [
    "# Bayesian Network\n",
    "\n",
    "Graph Theory와 Probability Theory의 결합하여 모델을 표현.<br>\n",
    "<u>Sum rule</u>과 <u>Product rule</u>을 이용하여 복잡한 문제를 단순한 계산의 조합으로 풀어낼 수 있다.<br>\n",
    "\n",
    "sum rule은 아래와 같다.\n",
    "$$p(a)=\\sum_{k=0}^{n}p(a, B=b_{k})$$\n",
    "\n",
    "product rule은 아래와 같다.\n",
    "$$p(a, b)=p(a|b)p(b)$$\n",
    "\n",
    "Graph는 Node와 Link로 구성되어 있다.<br> \n",
    "<u>Node는 Random Variable</u>을 나타내고, <u>Link는 Conditional Probability</u>를 나타낸다.<br>"
   ]
  },
  {
   "cell_type": "code",
   "execution_count": 24,
   "metadata": {},
   "outputs": [
    {
     "data": {
      "image/png": "[encoded data removed]",
      "text/plain": [
       "<matplotlib.figure.Figure at 0x23cd63ddc18>"
      ]
     },
     "metadata": {},
     "output_type": "display_data"
    }
   ],
   "source": [
    "plt.subplot(111)\n",
    "\n",
    "# Create a Directed Graph object\n",
    "BN = nx.DiGraph()\n",
    "# add Nodes(random variables)\n",
    "BN.add_nodes_from(['X', 'OV', 'HV', 'Y', 'Z'])\n",
    "# add links(directed relations, causal relations)\n",
    "BN.add_edges_from([('X', 'OV'), ('X', 'HV'), ('HV', 'Y'), ('HV', 'Z')])\n",
    "\n",
    "position = {'X': (20, 40), 'OV': (10, 25), 'HV': (30, 25), 'Y': (20, 10), 'Z':(40,10)} \n",
    "nx.draw_networkx(BN, pos=position, node_size=1000, node_color='g')\n",
    "plt.show()"
   ]
  },
  {
   "cell_type": "markdown",
   "metadata": {},
   "source": [
    "## Random Variable의 종류\n",
    "\n",
    "Random Variable(RV)은 <u>Observed Variable</u>(OV)과 <u>Hidden Variable</u>(HV)로 나뉜다.<br>\n",
    "그리고 Hidden Variable은 <u>관심이 있는 대상</u>(Y)과 <u>관심이 없는 대상</u>(Z)으로 나뉜다. "
   ]
  },
  {
   "cell_type": "markdown",
   "metadata": {},
   "source": []
  },
  {
   "cell_type": "code",
   "execution_count": null,
   "metadata": {
    "collapsed": true
   },
   "outputs": [],
   "source": []
  },
  {
   "cell_type": "code",
   "execution_count": null,
   "metadata": {
    "collapsed": true
   },
   "outputs": [],
   "source": []
  },
  {
   "cell_type": "code",
   "execution_count": null,
   "metadata": {
    "collapsed": true
   },
   "outputs": [],
   "source": []
  },
  {
   "cell_type": "code",
   "execution_count": null,
   "metadata": {
    "collapsed": true
   },
   "outputs": [],
   "source": []
  },
  {
   "cell_type": "code",
   "execution_count": null,
   "metadata": {
    "collapsed": true
   },
   "outputs": [],
   "source": []
  },
  {
   "cell_type": "code",
   "execution_count": null,
   "metadata": {
    "collapsed": true
   },
   "outputs": [],
   "source": []
  },
  {
   "cell_type": "code",
   "execution_count": null,
   "metadata": {
    "collapsed": true
   },
   "outputs": [],
   "source": []
  }
 ],
 "metadata": {
  "kernelspec": {
   "display_name": "Python 3",
   "language": "python",
   "name": "python3"
  },
  "language_info": {
   "codemirror_mode": {
    "name": "ipython",
    "version": 3
   },
   "file_extension": ".py",
   "mimetype": "text/x-python",
   "name": "python",
   "nbconvert_exporter": "python",
   "pygments_lexer": "ipython3",
   "version": "3.6.2"
  }
 },
 "nbformat": 4,
 "nbformat_minor": 2
}
