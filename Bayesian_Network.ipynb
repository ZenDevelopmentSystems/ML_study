{
 "cells": [
  {
   "cell_type": "code",
   "execution_count": 18,
   "metadata": {},
   "outputs": [
    {
     "name": "stdout",
     "output_type": "stream",
     "text": [
      "Version of networkx:  2.0\n"
     ]
    }
   ],
   "source": [
    "import networkx as nx\n",
    "import matplotlib.pyplot as plt\n",
    "print('Version of networkx: ', nx.__version__)"
   ]
  },
  {
   "cell_type": "markdown",
   "metadata": {},
   "source": [
    "# Bayesian Network\n",
    "\n",
    "Graph Theory와 Probability Theory의 결합하여 모델을 표현.<br>\n",
    "**\"Sum rule\"**과 **\"Product rule\"**을 이용한 `fatorization`으로 복잡한 문제를 단순한 계산의 조합으로 풀어낼 수 있다.<br>\n",
    "\n",
    "`sum rule`은 아래와 같다.\n",
    "$$p(a)=\\sum_{k=0}^{n}p(a, B=b_{k})$$\n",
    "\n",
    "`product rule`은 아래와 같다.\n",
    "$$p(a, b)=p(a|b)p(b)$$\n",
    "\n",
    "Graph는 Node와 Link로 구성되어 있다.<br> \n",
    "**\"Node는 Random Variable\"**을 나타내고, **\"Link는 Conditional Probability\"**를 나타낸다.<br>"
   ]
  },
  {
   "cell_type": "code",
   "execution_count": 26,
   "metadata": {},
   "outputs": [
    {
     "data": {
      "image/png": "[encoded data removed]",
      "text/plain": [
       "<matplotlib.figure.Figure at 0x23cd7d4a710>"
      ]
     },
     "metadata": {},
     "output_type": "display_data"
    }
   ],
   "source": [
    "plt.subplot(111)\n",
    "\n",
    "# Create a Directed Graph object\n",
    "BN = nx.DiGraph()\n",
    "# add Nodes(random variables)\n",
    "BN.add_nodes_from(['X', 'OV', 'HV', 'Y', 'Z'])\n",
    "# add links(directed relations, causal relations)\n",
    "BN.add_edges_from([('X', 'OV'), ('X', 'HV'), ('HV', 'Y'), ('HV', 'Z')])\n",
    "\n",
    "position = {'X': (20, 40), 'OV': (10, 25), 'HV': (30, 25), 'Y': (20, 10), 'Z':(40,10)} \n",
    "nx.draw_networkx(BN, pos=position, node_size=1000, node_color='g')\n",
    "\n",
    "plt.title(\"Example of Bayesian Network\")\n",
    "plt.show()"
   ]
  },
  {
   "cell_type": "markdown",
   "metadata": {},
   "source": [
    "위 그림은 각 Random Variable간의 인과관계를 나타낸 그림이다.<br>\n"
   ]
  },
  {
   "cell_type": "markdown",
   "metadata": {},
   "source": [
    "## Random Variable의 종류\n",
    "\n",
    "Random Variable(RV)은 **\"Observed Variable\"**(OV)과 **\"Hidden Variable\"**(HV)로 나뉜다.<br>\n",
    "그리고 Hidden Variable은 **\"관심이 있는 대상\"**(Y)과 **\"관심이 없는 대상\"**(Z)으로 나뉜다. "
   ]
  },
  {
   "cell_type": "markdown",
   "metadata": {},
   "source": [
    "## Marginalization Out(Summing Out)\n",
    "\n",
    "$$P(A) = \\sum_{B}P(A, B) = \\sum_{B}P(A|B)P(B) $$\n",
    "\n",
    "\n",
    "\n",
    "보통 풀고자 하는 문제들은 Conditional Probability인 경우가 많다.<br>\n",
    "$$ p(Y|OV) $$\n",
    "해당 문제는 Full joint probability를 이용하는 형태로 바꾸어 준다.<br>\n",
    "\n",
    "\n",
    "\n"
   ]
  },
  {
   "cell_type": "markdown",
   "metadata": {
    "collapsed": true
   },
   "source": [
    "## Factorization\n",
    "\n",
    "여기서 `sum rule`과 `product rule`이 사용된다.\n"
   ]
  },
  {
   "cell_type": "code",
   "execution_count": null,
   "metadata": {
    "collapsed": true
   },
   "outputs": [],
   "source": []
  },
  {
   "cell_type": "markdown",
   "metadata": {
    "collapsed": true
   },
   "source": [
    "## Bayesian Network with MCMC\n",
    "\n",
    "Bayesian Network에서 iteration을 도는 부분을 MCMC로 sampling하여 수행"
   ]
  },
  {
   "cell_type": "markdown",
   "metadata": {
    "collapsed": true
   },
   "source": [
    "Marginalization은 아래와 같다.\n",
    "$$p(x|y)=\\int_{Z}p(x,z|y)dz$$\n"
   ]
  },
  {
   "cell_type": "code",
   "execution_count": null,
   "metadata": {
    "collapsed": true
   },
   "outputs": [],
   "source": []
  },
  {
   "cell_type": "code",
   "execution_count": null,
   "metadata": {
    "collapsed": true
   },
   "outputs": [],
   "source": []
  },
  {
   "cell_type": "code",
   "execution_count": null,
   "metadata": {
    "collapsed": true
   },
   "outputs": [],
   "source": []
  },
  {
   "cell_type": "code",
   "execution_count": null,
   "metadata": {
    "collapsed": true
   },
   "outputs": [],
   "source": []
  }
 ],
 "metadata": {
  "kernelspec": {
   "display_name": "Python 3",
   "language": "python",
   "name": "python3"
  },
  "language_info": {
   "codemirror_mode": {
    "name": "ipython",
    "version": 3
   },
   "file_extension": ".py",
   "mimetype": "text/x-python",
   "name": "python",
   "nbconvert_exporter": "python",
   "pygments_lexer": "ipython3",
   "version": "3.6.2"
  }
 },
 "nbformat": 4,
 "nbformat_minor": 2
}
