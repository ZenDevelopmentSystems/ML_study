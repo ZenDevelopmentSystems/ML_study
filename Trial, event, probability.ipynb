{
 "cells": [
  {
   "cell_type": "code",
   "execution_count": 1,
   "metadata": {
    "collapsed": true
   },
   "outputs": [],
   "source": [
    "%matplotlib inline"
   ]
  },
  {
   "cell_type": "markdown",
   "metadata": {},
   "source": [
    "# 시행, 사건, 확률\n",
    "\n",
    "- 대부분의 사건은 그 결과가 **\"불확실\"**. 따라서 모든 사건에는 확률이 관여.\n",
    "- 확률에 의해 사건들이 어떤 모습으로 발생할지 예상하는 것이 목표.\n",
    "- **\"불확실한 결과가 나타나는 과정을 반복\"**하면, 이를 실험(experiment) or **\"시행(trial)\"**이라 함\n",
    "- **\"어떤 시행을 하느냐가 결정\"**되면 그 시행에 따른 **\"결과도 범위가 정해짐\"**\n",
    "- 시행에 따라서 나타날 수 있는 **\"모든 결과의 집합을 표본공간(sample space)\"**라 부름.\n",
    "- 일단 **\"어떤 시행을 하면\"**, 모든 가능한 결과를 나열할 수 있고, 그 **\"결과 중에 하나가 실현.\"**\n",
    "- 표본공간 상에 있는 결과 중, 그 **\"일부를 사건(event)\"**라 부름.\n",
    "- **\"확률(probability)\"**은 **\"사건들이 일어날 수 있는 가능성(likelihood)\"**을 0~1 사이의 숫자로 나타낸 척도.\n",
    "- 표본공간안에 있는 사건들은 총합이 1인 확률을 일어날 수 있는 가능성에 비례하여 나눠 갖음.\n",
    "- 확률분포(distribution)에서 **\"'distribute'는 총합이 1인 확률을 나눠준다는 의미\"**.\n",
    "- 확률을 사건들에게 나눠주는 방식에 따라서 불확실한 세상은 아주 다양한 모습을 보여줌. \n",
    "- 어떤 시행인지 정해지면 표본공간이 결정되고, 각 사건들에게 부여된 실현 가능성의 정도에 따라 다양한 결과가 나타남.\n",
    "- **\"시행(trial)에는 매우 전형적인 형태가 있음.\"** 때문에 어떤 시행은 특별한 이름을 갖음. \n",
    "- **\"베르누이 시행(Bernoulli trial)\"**은 그 중에 하나. 이 시행의 특징은 그 **\"결과가 단 두가지\"** 밖에 없다는 점. 그리고 베르누이 시행을 반복하면 사건은 조금 복잡한 모양이 됨. 성공확률이 p인 베르누이 시행을 n번 시도했을 때, k번 성공하는 사건을 생각할 수 있음.\n",
    "- **\"n번 베르누이 시행을 반복하는 시행을 이항시행(binomial trial)\"**이라 함. 즉, 시행의 결과가 2개인 특성을 말함. \n",
    "- 이항시행의 확률은 이항 분포(binomial distribution)를 따름."
   ]
  },
  {
   "cell_type": "markdown",
   "metadata": {},
   "source": [
    "## Binomial trial and distribution\n",
    "\n",
    "이항시행과 이항분포는 아이템 강화를 통해 알아봄.  \n",
    "성공 확률이 $p$인 강화를 $n$번 시행했을 때, $k$번 성공할 확률을 함수는 아래와 같음.  \n",
    "$$P(X=k) = \\frac{n!}{k!(n-k)!}p^{k}(1-p)^{n-k}$$"
   ]
  },
  {
   "cell_type": "markdown",
   "metadata": {},
   "source": [
    "강화 성공 확률이 10%라면 20번 시도했을 때 한번도 성공하지 못할 확률은 아래와 같음.  "
   ]
  },
  {
   "cell_type": "code",
   "execution_count": 45,
   "metadata": {},
   "outputs": [
    {
     "name": "stdout",
     "output_type": "stream",
     "text": [
      "1 to 10 trials:  [False False False False False False False False  True  True]\n",
      "Probability: 14.099999999999998%\n"
     ]
    }
   ],
   "source": [
    "n, p, k = 20, .1, 0\n",
    "trials = 1000\n",
    "\n",
    "number_of_success = np.random.binomial(n=n, p=p, size=trials) == k\n",
    "print('1 to 10 trials: ', number_of_success[:10])\n",
    "\n",
    "result = sum(number_of_success) / trials * 100\n",
    "print(f'Probability: {result}%')"
   ]
  },
  {
   "cell_type": "markdown",
   "metadata": {},
   "source": [
    "그리고 5번 이하 성공할 확률은 아래와 같음."
   ]
  },
  {
   "cell_type": "code",
   "execution_count": 49,
   "metadata": {},
   "outputs": [
    {
     "name": "stdout",
     "output_type": "stream",
     "text": [
      "1 to 10 trials:  [ True  True  True  True  True  True  True  True  True  True]\n",
      "Probability: 98.6%\n"
     ]
    }
   ],
   "source": [
    "number_of_success = np.random.binomial(n=n, p=p, size=trials) <= 5\n",
    "print('1 to 10 trials: ', number_of_success[:10])\n",
    "\n",
    "result = sum(number_of_success) / trials * 100\n",
    "print(f'Probability: {result}%')"
   ]
  },
  {
   "cell_type": "markdown",
   "metadata": {},
   "source": [
    "### TODO\n",
    "상태를 갖는 클래스로 설계할 수 있을까? 시간만 많았으면 했을듯..."
   ]
  },
  {
   "cell_type": "code",
   "execution_count": null,
   "metadata": {
    "collapsed": true
   },
   "outputs": [],
   "source": []
  },
  {
   "cell_type": "code",
   "execution_count": null,
   "metadata": {
    "collapsed": true
   },
   "outputs": [],
   "source": []
  },
  {
   "cell_type": "markdown",
   "metadata": {},
   "source": [
    "# References\n",
    "\n",
    "1. [Box and Whisker blog](http://www.boxnwhis.kr/2015/05/21/binomial_dist_in_games.html)"
   ]
  },
  {
   "cell_type": "markdown",
   "metadata": {},
   "source": [
    "### Note\n",
    "\n",
    "1. 시행의 결과값은 sample의 특성에 따라 결과의 범위가 정해지는 것 같은데, 왜 시행들에 따로 명칭을 붙였을까? 자연에서 관찰되는 sample들은 몇가지의 시행으로 표현이 가능한 것일까?\n",
    "2. Likelihood는 $P(D|H)$의 형태로 알고있다. 여기서 D와 H 모두 사건이며 변수이다. 하지만 Likelihood에서는 H를 고정하여 상수로 취급한다. 그리고 조건부 확률(Conditional Proablity)의 형태도 $P(H|D)$이며, 다만 여기서는 D는 고정하여 상수로 취급한다. Lihelihood와 probability의 차이가 정확히 무엇일까? 일단 [기존 질문글](https://stats.stackexchange.com/questions/2641/what-is-the-difference-between-likelihood-and-probability)을 참조하면 될 듯."
   ]
  }
 ],
 "metadata": {
  "kernelspec": {
   "display_name": "Python 3",
   "language": "python",
   "name": "python3"
  },
  "language_info": {
   "codemirror_mode": {
    "name": "ipython",
    "version": 3
   },
   "file_extension": ".py",
   "mimetype": "text/x-python",
   "name": "python",
   "nbconvert_exporter": "python",
   "pygments_lexer": "ipython3",
   "version": "3.6.2"
  }
 },
 "nbformat": 4,
 "nbformat_minor": 2
}
