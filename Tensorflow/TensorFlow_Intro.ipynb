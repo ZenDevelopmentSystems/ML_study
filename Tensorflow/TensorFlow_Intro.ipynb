{
 "cells": [
  {
   "cell_type": "code",
   "execution_count": 1,
   "metadata": {},
   "outputs": [
    {
     "name": "stderr",
     "output_type": "stream",
     "text": [
      "/Users/seungbaeji/anaconda3/lib/python3.6/site-packages/h5py/__init__.py:36: FutureWarning: Conversion of the second argument of issubdtype from `float` to `np.floating` is deprecated. In future, it will be treated as `np.float64 == np.dtype(float).type`.\n",
      "  from ._conv import register_converters as _register_converters\n"
     ]
    }
   ],
   "source": [
    "import numpy as np\n",
    "import tensorflow as tf"
   ]
  },
  {
   "cell_type": "markdown",
   "metadata": {},
   "source": [
    " TensorFlow 1.12 기준, 2019-01-28 작성됨."
   ]
  },
  {
   "cell_type": "markdown",
   "metadata": {},
   "source": [
    "# Goal\n",
    "\n",
    "- TensorFlow의 핵심파트 파악\n",
    "- TensorFlow의 학습흐름 파악"
   ]
  },
  {
   "cell_type": "markdown",
   "metadata": {},
   "source": [
    "# TensorFlow\n",
    "\n",
    "TensorFlow는 데이터 흐름 그래프를 사용하는 수치 연산용 오픈소스 소프트웨어 라이브러리.  \n",
    "단일 API를 통해 데스크톱, 서버 또는 휴대기기에 장착된 하나 이상의 CPU 또는 GPU에 연산을 배포할 수 있다.  \n",
    "\n",
    "TensorFlow는 **분리된 두 파트**로 이루어져 있으며, 각 파트의 역할은 아래와 같다.\n",
    "- `tf.Graph`: TensorFlow program\n",
    "- `tf.Session`: TensorFlow runtime\n",
    "\n",
    "즉, `tf.Graph`로 computational graph를 생성하고, `tf.Session`으로 해당 graph를 실행한다."
   ]
  },
  {
   "cell_type": "markdown",
   "metadata": {},
   "source": [
    "## 1. Graph (TensorFlow Program)\n",
    "\n",
    "Computational Graph를 의미하며, `Operation`과 `Tensor`로 표현된다.  \n",
    "\n",
    "- `tf.Operation`: Graph에서 node들로 표현되며, `tensor`를 소비하거나 생성하는 연산을 나타낸다. 그리고 각 `operation`들은 고유한 이름을 갖는다.\n",
    "- `tf.Tensor`: Graph에서 edge들로 표현되며, `graph`에서 **앞으로 흐를** 값를 나타낸다. TensorFlow의 함수 대부분은 `tf.Tensor`를 반환한다. \n",
    "\n",
    "`print()`함수로 `Operation`에서 출력될 `Tensor`를 확인할 수 있다.\n",
    "\n",
    "**중요: `Tensor`는 값을 갖지 않으며, graph의 요소들을 다루는 역할을 맡는다.**"
   ]
  },
  {
   "cell_type": "code",
   "execution_count": 2,
   "metadata": {},
   "outputs": [
    {
     "name": "stdout",
     "output_type": "stream",
     "text": [
      "Tensor(\"Const:0\", shape=(), dtype=float32)\n",
      "Tensor(\"Const_1:0\", shape=(), dtype=float32)\n",
      "Tensor(\"add:0\", shape=(), dtype=float32)\n"
     ]
    }
   ],
   "source": [
    "x = 10\n",
    "a = tf.constant(x, dtype=tf.float32)  # Constant Operation\n",
    "b = tf.constant(4.0) # also tf.float32 implicitly\n",
    "total = a + b\n",
    "\n",
    "print(a)\n",
    "print(b)\n",
    "print(total)"
   ]
  },
  {
   "cell_type": "markdown",
   "metadata": {},
   "source": [
    "### 1-a) TensorBoard\n",
    "\n",
    "TensorFlow에서 시각화를 담당하는 도구. Python으로 작성한 computation graph를 시각화 가능하다."
   ]
  },
  {
   "cell_type": "code",
   "execution_count": 3,
   "metadata": {},
   "outputs": [],
   "source": [
    "writer = tf.summary.FileWriter('./constant')\n",
    "writer.add_graph(tf.get_default_graph())\n",
    "writer.flush()"
   ]
  },
  {
   "cell_type": "code",
   "execution_count": 4,
   "metadata": {},
   "outputs": [
    {
     "name": "stdout",
     "output_type": "stream",
     "text": [
      "events.out.tfevents.1548665226.Seungbaes-MacBook-Pro.local\n"
     ]
    }
   ],
   "source": [
    "! ls ./constant"
   ]
  },
  {
   "cell_type": "code",
   "execution_count": 4,
   "metadata": {},
   "outputs": [
    {
     "name": "stdout",
     "output_type": "stream",
     "text": [
      "/Users/seungbaeji/anaconda3/lib/python3.6/site-packages/h5py/__init__.py:36: FutureWarning: Conversion of the second argument of issubdtype from `float` to `np.floating` is deprecated. In future, it will be treated as `np.float64 == np.dtype(float).type`.\n",
      "  from ._conv import register_converters as _register_converters\n",
      "\u001b[33mW0128 16:21:18.585929 Reloader tf_logging.py:120] Found more than one graph event per run, or there was a metagraph containing a graph_def, as well as one or more graph events.  Overwriting the graph with the newest event.\n",
      "\u001b[0mW0128 16:21:18.585928 123145446924288 tf_logging.py:120] Found more than one graph event per run, or there was a metagraph containing a graph_def, as well as one or more graph events.  Overwriting the graph with the newest event.\n",
      "TensorBoard 1.12.0 at http://Seungbaes-MacBook-Pro.local:6006 (Press CTRL+C to quit)\n",
      "^C\n"
     ]
    }
   ],
   "source": [
    "! tensorboard --logdir ./constant"
   ]
  },
  {
   "cell_type": "markdown",
   "metadata": {},
   "source": [
    "## 2. Session (TensorFlow Runtime)\n",
    "\n",
    "`tf.Session` 객체를 통해서 tensor를 평가(evaluation)할 수 있다.  \n",
    "Session은 TensorFlow의 runtime에 관한 상태들을 캡슐화 하였으며, `Operation`들을 실행 시킨다.\n",
    "\n",
    "`tf.Session.run` method는 tuple이나 dict 형식의 입력도 다룰 수 있다."
   ]
  },
  {
   "cell_type": "code",
   "execution_count": 12,
   "metadata": {},
   "outputs": [
    {
     "name": "stdout",
     "output_type": "stream",
     "text": [
      "14.0\n",
      "{'ab': (4.0, 10.0)}\n",
      "False\n",
      "False\n"
     ]
    }
   ],
   "source": [
    "with tf.Session() as sess:\n",
    "    print(total.eval())  # tf.get_default_session().run(total)\n",
    "    print(sess.run({'ab': (b, a)}))\n",
    "    \n",
    "sess2 = tf.Session().as_default()\n",
    "sess3 = tf.Session()\n",
    "\n",
    "print(sess2 == tf.get_default_session())\n",
    "print(sess3 == tf.get_default_session())"
   ]
  },
  {
   "cell_type": "markdown",
   "metadata": {},
   "source": [
    "### 2-a) Tensor Values\n",
    "\n",
    "`Tensor`는 TensorFlow에서 data의 기본단위이다. `Tensor`의 값은 원시값(primitive value)로 이루어져 있으며, `Tensor`의 값들은 다차원 구조를 이루고 있다. \n",
    "\n",
    "`Tensor`의 정보는 rank와 shape로 알 수 있다. Rank는 tensor의 차원을 나타내며, Shape은 tensor의 각 차원내 속한 값들의 갯수를 나타낸다.  "
   ]
  },
  {
   "cell_type": "code",
   "execution_count": 7,
   "metadata": {},
   "outputs": [],
   "source": [
    "a1, a2 = 3, 5.0  # Scalar\n",
    "b1, b2, b3 = [], [1,2,3], [3,4,5,6,7,8,9]  # List\n",
    "c1, c2 = [[1,2,3], [4,5,6]], [[1,2,3,4,5,6], [4,5,6,7,8,9]]\n",
    "d1 = np.arange(100).reshape(2,5,5,2)"
   ]
  },
  {
   "cell_type": "code",
   "execution_count": 8,
   "metadata": {},
   "outputs": [
    {
     "name": "stdout",
     "output_type": "stream",
     "text": [
      "Rank of a1: 0 / Shape of a1: []\n",
      "Rank of a2: 0 / Shape of a2: []\n",
      "\n",
      "Rank of b1: 1 / Shape of b1: [0]\n",
      "Rank of b2: 1 / Shape of b2: [3]\n",
      "Rank of b3: 1 / Shape of b3: [7]\n",
      "\n",
      "Rank of c1: 2 / Shape of c1: [2 3]\n",
      "Rank of c2: 2 / Shape of c2: [2 6]\n",
      "\n",
      "Rank of d1: 4 / Shape of d1: [2 5 5 2]\n",
      "\n"
     ]
    }
   ],
   "source": [
    "with tf.Session() as sess:\n",
    "    rank_a = sess.run([tf.rank(a1), tf.rank(a2)])\n",
    "    rank_b = sess.run([tf.rank(b1), tf.rank(b2), tf.rank(b3)])\n",
    "    rank_c = sess.run([tf.rank(c1), tf.rank(c2)])\n",
    "    rank_d = sess.run([tf.rank(d1)])\n",
    "    \n",
    "    shape_a = sess.run([tf.shape(a1), tf.shape(a2)])\n",
    "    shape_b = sess.run([tf.shape(b1), tf.shape(b2), tf.shape(b3)])\n",
    "    shape_c = sess.run([tf.shape(c1), tf.shape(c2)])\n",
    "    shape_d = sess.run([tf.shape(d1)])\n",
    "    \n",
    "print('Rank of a1: {} / Shape of a1: {}\\n'\n",
    "      'Rank of a2: {} / Shape of a2: {}'\\\n",
    "      .format(rank_a[0], shape_a[0], \n",
    "              rank_a[1], shape_a[1]), end='\\n\\n')\n",
    "\n",
    "print('Rank of b1: {} / Shape of b1: {}\\n'\n",
    "      'Rank of b2: {} / Shape of b2: {}\\n'\n",
    "      'Rank of b3: {} / Shape of b3: {}'\\\n",
    "      .format(rank_b[0], shape_b[0],\n",
    "              rank_b[1], shape_b[1],\n",
    "              rank_b[2], shape_b[2]), end='\\n\\n')\n",
    "\n",
    "print('Rank of c1: {} / Shape of c1: {}\\n'\n",
    "      'Rank of c2: {} / Shape of c2: {}'\\\n",
    "      .format(rank_c[0], shape_c[0], \n",
    "              rank_c[1], shape_c[1]), end='\\n\\n')\n",
    "\n",
    "print('Rank of d1: {} / Shape of d1: {}'\\\n",
    "      .format(rank_d[0], shape_d[0]), end='\\n\\n')"
   ]
  },
  {
   "cell_type": "markdown",
   "metadata": {},
   "source": [
    "각각의 `tf.Session.run`마다 `Tensor` 는 하나의 값을 표현할 수 있다.  \n",
    "아래의 예시에서 각 `run`마다 각기 다른 값을 갖는것을 알 수 있다."
   ]
  },
  {
   "cell_type": "code",
   "execution_count": 9,
   "metadata": {},
   "outputs": [
    {
     "name": "stdout",
     "output_type": "stream",
     "text": [
      "[0.25800514 0.14975977 0.77474844]\n",
      "[0.15670967 0.07949984 0.35647643]\n",
      "(array([0.39900303, 0.12925124, 0.44903004], dtype=float32), array([1.399003 , 1.1292512, 1.44903  ], dtype=float32), array([2.399003 , 2.1292512, 2.44903  ], dtype=float32))\n"
     ]
    }
   ],
   "source": [
    "vec = tf.random_uniform(shape=(3,))\n",
    "out1 = vec + 1\n",
    "out2 = vec + 2\n",
    "\n",
    "with tf.Session() as sess:\n",
    "    print(sess.run(vec))\n",
    "    print(sess.run(vec))\n",
    "    print(sess.run((vec, out1, out2)))  # vec has a same value"
   ]
  },
  {
   "cell_type": "markdown",
   "metadata": {},
   "source": [
    "## 3. Train\n",
    "\n",
    "### 3-a) Feeding\n",
    "\n",
    "`placeholder`를 이용하여, 외부에서 graph에 값을 입력할 수 있다."
   ]
  },
  {
   "cell_type": "code",
   "execution_count": 15,
   "metadata": {},
   "outputs": [
    {
     "ename": "SyntaxError",
     "evalue": "invalid syntax (<ipython-input-15-555b4b5bb637>, line 9)",
     "output_type": "error",
     "traceback": [
      "\u001b[0;36m  File \u001b[0;32m\"<ipython-input-15-555b4b5bb637>\"\u001b[0;36m, line \u001b[0;32m9\u001b[0m\n\u001b[0;31m    print(sess.run(z, feed_dict={x: [1, 3], y: [2, 4]}))\u001b[0m\n\u001b[0m        ^\u001b[0m\n\u001b[0;31mSyntaxError\u001b[0m\u001b[0;31m:\u001b[0m invalid syntax\n"
     ]
    }
   ],
   "source": [
    "x = tf.placeholder(tf.float32)\n",
    "y = tf.placeholder(tf.float32)\n",
    "# r = tf.constant(x)\n",
    "z = x + y\n",
    "\n",
    "\n",
    "with tf.Session() as sess:\n",
    "    print(sess.run(z, {x: 3, y: 4.5})\n",
    "    print(sess.run(z, feed_dict={x: [1, 3], y: [2, 4]}))"
   ]
  },
  {
   "cell_type": "markdown",
   "metadata": {},
   "source": [
    "`placeholder`는 간단한 실험을 할때 많이 사용이 된다.  \n",
    "하지만 모델에 대용량 데이터를 공급하기 위해서는 `tf.data`가 선호된다. "
   ]
  },
  {
   "cell_type": "code",
   "execution_count": 11,
   "metadata": {},
   "outputs": [
    {
     "name": "stdout",
     "output_type": "stream",
     "text": [
      "[0 1]\n",
      "[2 3]\n"
     ]
    }
   ],
   "source": [
    "my_data = [\n",
    "    [0, 1,],\n",
    "    [2, 3,],\n",
    "    [4, 5,],\n",
    "    [6, 7,],\n",
    "]\n",
    "\n",
    "slices = tf.data.Dataset.from_tensor_slices(my_data)\n",
    "next_item = slices.make_one_shot_iterator().get_next()\n",
    "\n",
    "with tf.Session() as sess:\n",
    "    print(sess.run(next_item))\n",
    "    print(sess.run(next_item))"
   ]
  },
  {
   "cell_type": "markdown",
   "metadata": {},
   "source": [
    "`Dataset`이 stateful operation과 연관되어 있다면, iterator를 반드시 초기화 시켜주어야 한다."
   ]
  },
  {
   "cell_type": "code",
   "execution_count": 12,
   "metadata": {},
   "outputs": [
    {
     "name": "stdout",
     "output_type": "stream",
     "text": [
      "[-1.7450634   1.75796     0.43232232]\n",
      "[-0.34077045 -0.6131716   0.48733407]\n"
     ]
    }
   ],
   "source": [
    "r = tf.random_normal([10,3])\n",
    "dataset = tf.data.Dataset.from_tensor_slices(r)\n",
    "iterator = dataset.make_initializable_iterator()\n",
    "next_row = iterator.get_next()\n",
    "\n",
    "\n",
    "with tf.Session() as sess:\n",
    "    sess.run(iterator.initializer)\n",
    "    \n",
    "    print(sess.run(next_row))\n",
    "    print(sess.run(next_row))"
   ]
  },
  {
   "cell_type": "markdown",
   "metadata": {},
   "source": [
    "### 3-b) Layer\n",
    "\n",
    "모델은 학습시 graph내의 값들을 변화 시킨다. `tf.layers`는 딥러닝 모델에서 학습가능한 파라미터를 graph에 추가할 수 있는 가장 선호되는 방법이다.  \n",
    "`Variable`과 `Operation`을 묶은 객체이며, `Variable`을 초기화 시켜줘야 사용이 가능하다."
   ]
  },
  {
   "cell_type": "code",
   "execution_count": 18,
   "metadata": {},
   "outputs": [
    {
     "name": "stdout",
     "output_type": "stream",
     "text": [
      "[[-0.31474972]\n",
      " [-2.1558566 ]]\n"
     ]
    }
   ],
   "source": [
    "tf.reset_default_graph()  # Clear the default graph\n",
    "\n",
    "x = tf.placeholder(tf.float32, shape=[None, 3])\n",
    "linear_model = tf.layers.Dense(units=1)  # Fully connected layer\n",
    "y = linear_model(x)\n",
    "\n",
    "init = tf.global_variables_initializer()\n",
    "\n",
    "with tf.Session() as sess:\n",
    "    sess.run(init)\n",
    "    print(sess.run(y, {x: [[1,2,3],[4,5,6]]}))"
   ]
  },
  {
   "cell_type": "code",
   "execution_count": 20,
   "metadata": {},
   "outputs": [],
   "source": [
    "writer = tf.summary.FileWriter('./dense1')\n",
    "writer.add_graph(tf.get_default_graph())\n",
    "writer.flush()"
   ]
  },
  {
   "cell_type": "code",
   "execution_count": 21,
   "metadata": {},
   "outputs": [
    {
     "name": "stdout",
     "output_type": "stream",
     "text": [
      "/Users/seungbaeji/anaconda3/lib/python3.6/site-packages/h5py/__init__.py:36: FutureWarning: Conversion of the second argument of issubdtype from `float` to `np.floating` is deprecated. In future, it will be treated as `np.float64 == np.dtype(float).type`.\n",
      "  from ._conv import register_converters as _register_converters\n",
      "TensorBoard 1.12.0 at http://Seungbaes-MacBook-Pro.local:6006 (Press CTRL+C to quit)\n",
      "^C\n"
     ]
    }
   ],
   "source": [
    "! tensorboard --logdir ./dense1"
   ]
  },
  {
   "cell_type": "code",
   "execution_count": 22,
   "metadata": {},
   "outputs": [
    {
     "name": "stdout",
     "output_type": "stream",
     "text": [
      "[[ 0.34105033]\n",
      " [-0.68243164]]\n"
     ]
    }
   ],
   "source": [
    "tf.reset_default_graph()  # Clear the default graph\n",
    "\n",
    "x = tf.placeholder(tf.float32, shape=[None, 3])\n",
    "\n",
    "# Define a Dense layer\n",
    "units = 1\n",
    "with tf.variable_scope(\"Dense\") as vs:\n",
    "    W = tf.Variable(tf.random_normal([3, units]), name='weight')\n",
    "    b = tf.Variable(tf.random_normal([units]), name='bias')\n",
    "    y = tf.matmul(x, W) + b\n",
    "\n",
    "init = tf.global_variables_initializer()\n",
    "\n",
    "with tf.Session() as sess:\n",
    "    sess.run(init)\n",
    "    print(sess.run(y, {x: [[1,2,3],[4,5,6]]}))"
   ]
  },
  {
   "cell_type": "code",
   "execution_count": 23,
   "metadata": {},
   "outputs": [],
   "source": [
    "writer = tf.summary.FileWriter('./dense2')\n",
    "writer.add_graph(tf.get_default_graph())\n",
    "writer.flush()"
   ]
  },
  {
   "cell_type": "code",
   "execution_count": 24,
   "metadata": {},
   "outputs": [
    {
     "name": "stdout",
     "output_type": "stream",
     "text": [
      "/Users/seungbaeji/anaconda3/lib/python3.6/site-packages/h5py/__init__.py:36: FutureWarning: Conversion of the second argument of issubdtype from `float` to `np.floating` is deprecated. In future, it will be treated as `np.float64 == np.dtype(float).type`.\n",
      "  from ._conv import register_converters as _register_converters\n",
      "TensorBoard 1.12.0 at http://Seungbaes-MacBook-Pro.local:6006 (Press CTRL+C to quit)\n",
      "^C\n"
     ]
    }
   ],
   "source": [
    "! tensorboard --logdir ./dense2"
   ]
  },
  {
   "cell_type": "markdown",
   "metadata": {},
   "source": [
    "### 3-c) Training\n",
    "\n",
    "모델을 학습시키기 위해서는 첫번째로 loss 함수를 정의해 주어야 한다. `tf.losses`에서는 일반적인 loss 함수들을 제공한다.\n",
    "두번째로는 `optimizer`를 사용하여야 한다. `optimizer`는 loss를 최소화 시키기 위하여 `variable`을 조금씩 변화 시킨다. 그리고 `optimizer`마다 `variable`을 변화시키는 방식이 다르다."
   ]
  },
  {
   "cell_type": "code",
   "execution_count": 28,
   "metadata": {},
   "outputs": [
    {
     "name": "stdout",
     "output_type": "stream",
     "text": [
      "1.4782574\n",
      "0.11314367\n",
      "0.09955392\n",
      "0.088301525\n",
      "0.07832148\n",
      "0.06946937\n",
      "0.06161776\n",
      "0.05465359\n",
      "0.048476506\n",
      "0.042997554\n",
      "0.03813787\n",
      "0.0338274\n",
      "0.030004127\n",
      "0.026612991\n",
      "0.023605132\n",
      "0.020937227\n",
      "0.018570846\n",
      "0.016471928\n",
      "0.014610231\n",
      "0.012958949\n",
      "0.011494287\n",
      "0.010195189\n",
      "0.009042894\n",
      "0.008020846\n",
      "0.007114317\n",
      "0.0063102297\n",
      "0.0055970303\n",
      "0.0049644383\n",
      "0.0044033565\n",
      "0.003905666\n",
      "0.0034642387\n",
      "0.0030727047\n",
      "0.002725414\n",
      "0.0024173828\n",
      "0.0021441584\n",
      "0.0019018239\n",
      "0.0016868782\n",
      "0.0014962221\n",
      "0.0013271159\n",
      "0.0011771193\n",
      "0.0010440818\n",
      "0.0009260768\n",
      "0.00082140515\n",
      "0.0007285635\n",
      "0.0006462174\n",
      "0.0005731849\n",
      "0.00050840067\n",
      "0.00045093993\n",
      "0.000399972\n",
      "0.00035476778\n",
      "[[-0.02864295]\n",
      " [-1.0138794 ]\n",
      " [-1.999116  ]\n",
      " [-2.9843524 ]]\n"
     ]
    }
   ],
   "source": [
    "# Reset graph\n",
    "tf.reset_default_graph()\n",
    "\n",
    "# Define the data\n",
    "x = tf.constant([[1], [2], [3], [4]], dtype=tf.float32)\n",
    "y_true = tf.constant([[0], [-1], [-2], [-3]], dtype=tf.float32)\n",
    "\n",
    "# Define the model\n",
    "linear_model = tf.layers.Dense(units=1)\n",
    "\n",
    "# Loss\n",
    "y_pred = linear_model(x)\n",
    "loss = tf.losses.mean_squared_error(labels=y_true, predictions=y_pred)\n",
    "\n",
    "# Train\n",
    "optimizer = tf.train.GradientDescentOptimizer(0.01)\n",
    "train = optimizer.minimize(loss)\n",
    "\n",
    "# Initialize\n",
    "init = tf.global_variables_initializer()\n",
    "\n",
    "# TensorBoard\n",
    "writer = tf.summary.FileWriter('./training')\n",
    "writer.add_graph(tf.get_default_graph())\n",
    "writer.flush()\n",
    "\n",
    "# Run\n",
    "sess = tf.Session()\n",
    "sess.run(init)\n",
    "for i in range(1000):\n",
    "    _, loss_value = sess.run((train, loss))\n",
    "    if i % 20 == 0:\n",
    "        print(loss_value)\n",
    "\n",
    "print(sess.run(y_pred))\n",
    "sess.close()"
   ]
  },
  {
   "cell_type": "code",
   "execution_count": 25,
   "metadata": {},
   "outputs": [
    {
     "name": "stdout",
     "output_type": "stream",
     "text": [
      "/Users/seungbaeji/anaconda3/lib/python3.6/site-packages/h5py/__init__.py:36: FutureWarning: Conversion of the second argument of issubdtype from `float` to `np.floating` is deprecated. In future, it will be treated as `np.float64 == np.dtype(float).type`.\n",
      "  from ._conv import register_converters as _register_converters\n",
      "TensorBoard 1.12.0 at http://Seungbaes-MacBook-Pro.local:6006 (Press CTRL+C to quit)\n",
      "^C\n"
     ]
    }
   ],
   "source": [
    "! tensorboard --logdir=./training"
   ]
  },
  {
   "cell_type": "markdown",
   "metadata": {},
   "source": [
    "# Summary\n",
    "\n",
    "1. TensorFlow는 연산을 `graph`와 `session` 파트로 구분하여, 단일 API를 통해 다양한 장치에 연산을 배포할 수 있다. \n",
    "2. `Graph` 외부에서 `graph`에 데이터를 주입하기 위하여, `placeholder`와 `tf.data` 가 이용된다.\n",
    "3. 딥러닝 모델에서 학습가능한 paramter는 `tf.layer`를 통해 쉽게 설정이 가능하다.\n",
    "4. 학습을 시키기 위해서는 `loss`와 `optimizer`를 정의해 주어야 한다."
   ]
  },
  {
   "cell_type": "markdown",
   "metadata": {},
   "source": [
    "# Reference\n",
    "\n",
    "1. [TensorFlow: low-level Intoroduction](https://www.tensorflow.org/guide/low_level_intro)"
   ]
  }
 ],
 "metadata": {
  "kernelspec": {
   "display_name": "Python 3",
   "language": "python",
   "name": "python3"
  },
  "language_info": {
   "codemirror_mode": {
    "name": "ipython",
    "version": 3
   },
   "file_extension": ".py",
   "mimetype": "text/x-python",
   "name": "python",
   "nbconvert_exporter": "python",
   "pygments_lexer": "ipython3",
   "version": "3.6.5"
  }
 },
 "nbformat": 4,
 "nbformat_minor": 2
}
