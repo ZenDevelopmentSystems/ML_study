{
 "cells": [
  {
   "cell_type": "markdown",
   "metadata": {},
   "source": [
    "# Model Training"
   ]
  },
  {
   "cell_type": "markdown",
   "metadata": {},
   "source": [
    "## Linear Regression\n",
    "$$\\hat{y} = \\theta_{0}+\\theta_{1}x_{1}+\\theta_{2}x_{2}+\\cdots+\\theta_{n}x_{n}$$\n",
    "$$\\hat{y} = h_{\\theta}(\\boldsymbol{\\mathrm{x}}) = \\theta^{T}\\cdot \\boldsymbol{\\mathrm{x}}$$\n",
    "\n",
    "모델이 훈련 데이터에 얼마나 잘 들어 맞는지 아래의 metric으로 측정.\n",
    "- RMSE (Root Mean Squared Error)\n",
    "- MAE (Mean Absolute Error)"
   ]
  },
  {
   "cell_type": "markdown",
   "metadata": {},
   "source": [
    "### Metric\n",
    "**벡터의 크기(중심점으로부터의 거리)를 측정하는 방식.**  \n",
    "Machine Learning에서는 metric을 이용하여 데이터(이하 벡터)를 측정하며, 유사한 벡터들은 유사하게 측정되어야 함. 더불어 metric은 벡터의 측정방식을 결정하기 때문에 모델의 공간설정으로 볼 수 있음.   \n",
    "\n",
    "RMSE는 Euclidean norm($l_{2}$ norm)에 해당.  \n",
    "MAE는 $l_{1}$ norm에 해당.  \n",
    "\n",
    "벡터를 구성하는 각 차원의 특성(단위)이 다르다면, 차원별로 동일 수치의 의미가 다를 수 있기 때문에, euclidean norm은 알맞지 않은 metric일 수 있음. 따라서 벡터에 알맞은 metric을 선정하거나 벡터를 구성하는 각 요소들을 알맞게 변형 시키는 것이 중요.  \n",
    "  \n",
    "\n",
    "Norm의 지수가 클수록 큰 값의 원소에 치우치고 작은 값은 무시.  "
   ]
  },
  {
   "cell_type": "markdown",
   "metadata": {},
   "source": [
    "### Cost function\n",
    "모델의 성능 측정 지표. 모델이 얼마나 나쁜지 측정하는 함수.  \n",
    "측정은 모델의 출력 벡터와 정답 벡터와의 거리로 측정.  \n",
    "- 모델의 출력 벡터와 정답 벡터의 차이를 측정.  \n",
    "- 출력 벡터의 각 성분별 특성이 다를 수 있음. 때문에 출력벡터를 구성하는 요소의 특성에 따라 알맞은 cost function을 선택 및 설계해야 함.\n",
    "- 흔히 회귀에서 접하는 문제들의 출력벡터는 스칼라였음. 때문에 이상치의 민감도로만 의미를 부여했음."
   ]
  },
  {
   "cell_type": "markdown",
   "metadata": {},
   "source": [
    "1. RMSE가 사용되어도 cost function과 metric에서의 사용목적이 다르기 때문에 해석을 다르게 해야 할 듯?\n",
    "2. Cost function이 모델이 데이터를 측정하는것과 관련이 있을까?"
   ]
  },
  {
   "cell_type": "code",
   "execution_count": 13,
   "metadata": {},
   "outputs": [
    {
     "data": {
      "text/plain": [
       "array([[4.48057758],\n",
       "       [2.58075247]])"
      ]
     },
     "execution_count": 13,
     "metadata": {},
     "output_type": "execute_result"
    }
   ],
   "source": [
    "X = 2 * np.random.rand(100, 1)\n",
    "y = 4 + 3 * X + np.random.randn(100, 1)\n",
    "\n",
    "X_b = np.c_[np.ones((100, 1)), X]\n",
    "theta_best = np.linalg.inv(X_b.T @ X_b) @ X_b.T @ y\n",
    "\n",
    "theta_best"
   ]
  },
  {
   "cell_type": "code",
   "execution_count": null,
   "metadata": {},
   "outputs": [],
   "source": []
  },
  {
   "cell_type": "markdown",
   "metadata": {},
   "source": [
    "# References\n",
    "\n",
    "1. [태리의 딥러닝 토크 Distance / Metric](https://youtu.be/4KXgdf6Bmo4?t=49s)"
   ]
  }
 ],
 "metadata": {
  "kernelspec": {
   "display_name": "Python 3",
   "language": "python",
   "name": "python3"
  },
  "language_info": {
   "codemirror_mode": {
    "name": "ipython",
    "version": 3
   },
   "file_extension": ".py",
   "mimetype": "text/x-python",
   "name": "python",
   "nbconvert_exporter": "python",
   "pygments_lexer": "ipython3",
   "version": "3.6.3"
  }
 },
 "nbformat": 4,
 "nbformat_minor": 2
}
