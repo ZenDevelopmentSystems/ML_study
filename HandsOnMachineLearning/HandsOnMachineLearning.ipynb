{
 "cells": [
  {
   "cell_type": "markdown",
   "metadata": {
    "slideshow": {
     "slide_type": "-"
    }
   },
   "source": [
    "# Hands On Machine Learning\n",
    "\n",
    "핸즈온 머신러닝 역서를 기반으로 전반적인 흐름을 정리하기 위해 작성한 문서.  \n",
    "\n",
    "책의 특징: \n",
    "1. 매 장이 끝날때 마다 개념정리를 위한 연습문제를 제공\n",
    "2. 예제 소스코드와 연습문제 해답을 책과 [깃헙](https://github.com/rickiepark/handson-ml)에 나누어 제공\n"
   ]
  },
  {
   "cell_type": "markdown",
   "metadata": {},
   "source": [
    "## 목차\n",
    "\n",
    "1. 머신러닝\n",
    "    1. [한눈에 보는 머신러닝](#1b)\n",
    "        1. 머신러닝 이란?\n",
    "        2. 왜 머신러닝을 사용하는가?\n",
    "        3. 머신러닝 시스템의 종류\n",
    "    2. [머신러닝 프로젝트 처음부터 끝까지]()\n",
    "    3. [분류]()\n",
    "    4. [모델 훈련]()\n",
    "    5. [서포트 벡터머신]()\n",
    "    6. [결정 트리]()\n",
    "    7. [앙상블 학습과 랜덤 포레스트]()\n",
    "    8. [차원 축소]()\n",
    "2. 신경망과 딥러닝\n",
    "    1. [텐서플로 시작하기]()\n",
    "    2. [인공 신경망 소개]()\n",
    "    3. [심층 신경망 훈련]()\n",
    "    4. [다중 머신과 장치를 위한 분산 텐서플로]()\n",
    "    5. [합성곱 신경망]()\n",
    "    6. [순환 신경망]()\n",
    "    7. [오토인코더]()\n",
    "    8. [강화학습]()"
   ]
  },
  {
   "cell_type": "markdown",
   "metadata": {},
   "source": [
    "<a id='1a'></a>\n",
    "## 한눈에 보는 머신러닝\n",
    "\n",
    "모든 데이터 과학자가 꼭 알아야 할 여러가지 기초 개념과 용어를 소개.  \n",
    "특히 전체 머신러닝의 그림을 조망하고 아래의 주요영역에 대해 간략히 알아봄.\n",
    "1. 지도 학습과 비지도 학습\n",
    "2. 온라인 학습과 배치 학습\n",
    "3. 사례 기반 학습과 모델 기반 학습\n",
    "4. 전형적인 머신러닝 프로젝트의 작업 흐름\n",
    "5. 머신러닝에서의 주요 문제점\n",
    "6. 머신러닝 시스템 평가 및 튜닝\n",
    "\n",
    "### 머신러닝 이란?\n",
    "1. 작업T에 대한 성능을 P로 측정했을 때 경험 E로 인해 성능이 향상 됐다면,  \n",
    "해당 프로그램은 작업T와 성능 측정 P에 대해 경험E로 학습한 것.\n",
    "\n",
    "### 왜 머신러닝을 사용하는가?\n",
    "1. 기존 솔루션으로는 많은 수동 조정과 규칙이 필요한 문제\n",
    "2. 전통적인 방식으로는 전혀 해결 방법이 없는 복잡한 문제\n",
    "3. 유동적인 환경\n",
    "4. 복잡한 문제와 대량의 데이터에서 통찰을 얻기 위함"
   ]
  },
  {
   "cell_type": "markdown",
   "metadata": {},
   "source": []
  },
  {
   "cell_type": "code",
   "execution_count": null,
   "metadata": {},
   "outputs": [],
   "source": []
  },
  {
   "cell_type": "code",
   "execution_count": null,
   "metadata": {},
   "outputs": [],
   "source": []
  },
  {
   "cell_type": "code",
   "execution_count": null,
   "metadata": {},
   "outputs": [],
   "source": []
  },
  {
   "cell_type": "code",
   "execution_count": null,
   "metadata": {},
   "outputs": [],
   "source": []
  },
  {
   "cell_type": "code",
   "execution_count": null,
   "metadata": {},
   "outputs": [],
   "source": []
  },
  {
   "cell_type": "code",
   "execution_count": null,
   "metadata": {},
   "outputs": [],
   "source": []
  },
  {
   "cell_type": "code",
   "execution_count": null,
   "metadata": {},
   "outputs": [],
   "source": []
  },
  {
   "cell_type": "code",
   "execution_count": null,
   "metadata": {},
   "outputs": [],
   "source": []
  },
  {
   "cell_type": "code",
   "execution_count": null,
   "metadata": {},
   "outputs": [],
   "source": []
  },
  {
   "cell_type": "code",
   "execution_count": null,
   "metadata": {},
   "outputs": [],
   "source": []
  },
  {
   "cell_type": "code",
   "execution_count": null,
   "metadata": {},
   "outputs": [],
   "source": []
  },
  {
   "cell_type": "code",
   "execution_count": null,
   "metadata": {},
   "outputs": [],
   "source": []
  },
  {
   "cell_type": "code",
   "execution_count": null,
   "metadata": {},
   "outputs": [],
   "source": []
  },
  {
   "cell_type": "code",
   "execution_count": null,
   "metadata": {},
   "outputs": [],
   "source": []
  },
  {
   "cell_type": "code",
   "execution_count": null,
   "metadata": {},
   "outputs": [],
   "source": []
  },
  {
   "cell_type": "code",
   "execution_count": null,
   "metadata": {},
   "outputs": [],
   "source": []
  },
  {
   "cell_type": "code",
   "execution_count": null,
   "metadata": {},
   "outputs": [],
   "source": []
  },
  {
   "cell_type": "code",
   "execution_count": null,
   "metadata": {},
   "outputs": [],
   "source": []
  },
  {
   "cell_type": "code",
   "execution_count": null,
   "metadata": {},
   "outputs": [],
   "source": []
  },
  {
   "cell_type": "code",
   "execution_count": null,
   "metadata": {},
   "outputs": [],
   "source": []
  },
  {
   "cell_type": "markdown",
   "metadata": {},
   "source": []
  },
  {
   "cell_type": "code",
   "execution_count": null,
   "metadata": {},
   "outputs": [],
   "source": []
  },
  {
   "cell_type": "code",
   "execution_count": null,
   "metadata": {},
   "outputs": [],
   "source": []
  }
 ],
 "metadata": {
  "kernelspec": {
   "display_name": "Python 3",
   "language": "python",
   "name": "python3"
  },
  "language_info": {
   "codemirror_mode": {
    "name": "ipython",
    "version": 3
   },
   "file_extension": ".py",
   "mimetype": "text/x-python",
   "name": "python",
   "nbconvert_exporter": "python",
   "pygments_lexer": "ipython3",
   "version": "3.6.3"
  }
 },
 "nbformat": 4,
 "nbformat_minor": 2
}
