{
 "cells": [
  {
   "cell_type": "markdown",
   "metadata": {},
   "source": [
    "# Dynamic Programming\n",
    "Dynamic Programming은 계산결과를 **\"저장(memoization)\"**해 두었다가 재활용 하는 기법. <br>\n",
    "본질적으로는 모든 경우를 다 계산하는 **\"전역탐색(exhausitive search)\"**기법. 하지만 저장해 둔 계산결과를 다시 사용하는 방식으로 반복되는 계산을 줄임.<br>\n",
    "\n",
    "Dynamic Programming은 원문제를 작은 부분문제로 나누어 푼 뒤 결과를 합치는 분할정복(divide and conquer)와는 차이가 존재.<br>\n",
    "분할정복은 나눈 부분문제들이 서로 독립적일 때 적용. 그리고 부분문제들의 해를 재사용 하지 않고 합치기만 함.<br>\n",
    "\n",
    "Dynamic Programming은 **\"부분문제가 서로 겹칠 때\"** 사용. 때문에 부분문제의 해(solution)을 재사용 가능.<br>\n",
    "\n"
   ]
  },
  {
   "cell_type": "markdown",
   "metadata": {
    "collapsed": true
   },
   "source": [
    "Dynamic Programming에서 Dynamic은 아무 의미가 없음. 1940년도 Richard Bellman이 용어를 처음 사용. 단지 멋있어 보여서 Dynamic을 붙임.\n",
    "\n",
    "1. Overlapping Subproblem\n",
    "    - 피보나치 수열\n",
    "2. Optimal Substructure\n",
    "\n",
    "Overlapping subproblem<br>\n",
    "큰 문제와 작은문제를 **\"같은 방법\"**으로 풀 수 있음.<br>\n",
    "문제를 작은 문제로 쪼갤 수 있음.\n",
    "\n",
    "Optimal Substructure<br>\n",
    "문제의 정답을 작은문제의 정답에서 구할 수 있음.<br>\n",
    "문제의 크기에 상관없이 어떤 한 문제의 정답은 일정.<br>"
   ]
  },
  {
   "cell_type": "markdown",
   "metadata": {
    "collapsed": true
   },
   "source": [
    "피보나치 수열 문제를 통해 전반적인 컨셉을 파악가능\n",
    "\n",
    "문제: N번째 피보나치 수를 구하는 문제\n",
    "작은문제: N-1번째 피보나치 수를 구하는 문제, N-2번째 피보나치 수를 구하는 문제\n",
    "\n",
    "문제: N-1번째 피보나치 수를 구하는 문제\n",
    "작은문제: N-2번째 피보나치 수를 구하는 문제, N-3번째 피보나치 수를 구하는 문제"
   ]
  },
  {
   "cell_type": "markdown",
   "metadata": {
    "collapsed": true
   },
   "source": [
    "문제를 푸는 방식에는 Top-down과 Bottom-up 방식이 존재\n",
    "\n",
    "Top-down은 recursive call을 이용해서 풀 수 있음\n",
    "Top-down<br>\n",
    "1. 문제를 작은 문제로 나눔\n",
    "2. 작은 문제를 해결\n",
    "3. 작은 문제들의 해답을 합침\n",
    "\n",
    "Bottom-up<br>\n",
    "1. 문제의 크기가 작은 문제부터 차례로 해결\n",
    "2. 문제의 크기를 조금씩 크게 만들면서 문제를 점점 해결\n",
    "3. 작은 문제를 풀면서 왔기 때문에, 큰 문제는 항상 해결 가능\n",
    "4. 언젠가는 해결해야하는 문제를 해결 가능"
   ]
  },
  {
   "cell_type": "code",
   "execution_count": null,
   "metadata": {
    "collapsed": true
   },
   "outputs": [],
   "source": []
  },
  {
   "cell_type": "code",
   "execution_count": null,
   "metadata": {
    "collapsed": true
   },
   "outputs": [],
   "source": []
  },
  {
   "cell_type": "code",
   "execution_count": null,
   "metadata": {
    "collapsed": true
   },
   "outputs": [],
   "source": []
  },
  {
   "cell_type": "code",
   "execution_count": null,
   "metadata": {
    "collapsed": true
   },
   "outputs": [],
   "source": []
  },
  {
   "cell_type": "code",
   "execution_count": null,
   "metadata": {
    "collapsed": true
   },
   "outputs": [],
   "source": []
  },
  {
   "cell_type": "code",
   "execution_count": null,
   "metadata": {
    "collapsed": true
   },
   "outputs": [],
   "source": []
  },
  {
   "cell_type": "code",
   "execution_count": null,
   "metadata": {
    "collapsed": true
   },
   "outputs": [],
   "source": []
  },
  {
   "cell_type": "code",
   "execution_count": null,
   "metadata": {
    "collapsed": true
   },
   "outputs": [],
   "source": []
  },
  {
   "cell_type": "code",
   "execution_count": null,
   "metadata": {
    "collapsed": true
   },
   "outputs": [],
   "source": []
  },
  {
   "cell_type": "markdown",
   "metadata": {
    "collapsed": true
   },
   "source": [
    "## References\n",
    "\n",
    "1. [다이나믹프로그래밍 시작하기](https://youtu.be/0o2hF-To_6Q?t=13m33s)"
   ]
  }
 ],
 "metadata": {
  "kernelspec": {
   "display_name": "Python 3",
   "language": "python",
   "name": "python3"
  },
  "language_info": {
   "codemirror_mode": {
    "name": "ipython",
    "version": 3
   },
   "file_extension": ".py",
   "mimetype": "text/x-python",
   "name": "python",
   "nbconvert_exporter": "python",
   "pygments_lexer": "ipython3",
   "version": "3.6.2"
  }
 },
 "nbformat": 4,
 "nbformat_minor": 2
}
