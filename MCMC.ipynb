{
 "cells": [
  {
   "cell_type": "markdown",
   "metadata": {},
   "source": [
    "MCMC(Markov Chain Monte Carlo)\n",
    "====="
   ]
  },
  {
   "cell_type": "code",
   "execution_count": 1,
   "metadata": {
    "collapsed": true
   },
   "outputs": [],
   "source": [
    "import numpy as np\n",
    "import random"
   ]
  },
  {
   "cell_type": "markdown",
   "metadata": {},
   "source": [
    "## Monte Carlo\n",
    "\n",
    "수식이 아닌 데이터의 **\"무작위 샘플을 통해 값\"**을 구하는 것.\n",
    "\n",
    "아래의 수식은, $x$에 대한 확률분포 $p(x)$가 주어지고, $x$에 대한 함수 $f(x)$가 주어졌을 때, $f(x)$의 기대값을 나타낸다.<br>\n",
    "$$E[f]=\\int{f(x)p(x)dx}$$\n",
    "확률분포 $p(x)$에서 여러개의 샘플을 추출할 수 있다면, $E[f]$에 대한 근사값을 아래와 같이 표현 가능하다.\n",
    "$$\\hat{f}=\\frac{1}{L} \\sum _{l=1}^{L}{f(z^l)} $$\n",
    "위의 식에서 $z^l$은 sampling을 통해 얻어진 각각의 샘플이다. 즉, 샘플들의 값을 함수에 대입하여 모두 더한 뒤, 평균을 취하면 근사값을 얻을 수 있다.\n",
    "\n",
    "문제는 실제 분포함수 $p(x)$를 구하는 것이 불가능한 경우가 대다수이기 때문에, 분포함수 $p(x)$에 가깝게 sampling을 하는 것에 무게를 둔다.\n",
    "\n",
    "마지막으로, Monte Carlo의 대략적인 개념은, 1/4 원안에 들어오는 샘플의 갯수를 통해 쉽게 파악할 수 있다."
   ]
  },
  {
   "cell_type": "code",
   "execution_count": 3,
   "metadata": {},
   "outputs": [
    {
     "name": "stdout",
     "output_type": "stream",
     "text": [
      "Monte Carlo:  19.641624999999998\n",
      "Equation:  19.634954084936208\n"
     ]
    }
   ],
   "source": [
    "#params\n",
    "total_samples = 200000\n",
    "samples_in_the_quarter_circle = 0\n",
    "r = 5\n",
    "\n",
    "#looping for Monte Carlo\n",
    "for i in range(total_samples):\n",
    "    x = random.random()*r #0~r\n",
    "    y = random.random()*r #0~r\n",
    "    \n",
    "    #condition\n",
    "    if x**2 + y**2 <= r**2: samples_in_the_quarter_circle += 1\n",
    "\n",
    "#reuslt of Monte Carlo\n",
    "ratio = samples_in_the_quarter_circle / total_samples\n",
    "print ('Monte Carlo: ', ratio * r**2)\n",
    "\n",
    "#result of Equation\n",
    "print ('Equation: ', np.pi * r**2 / 4)"
   ]
  },
  {
   "cell_type": "markdown",
   "metadata": {},
   "source": [
    "## Markov Chain\n",
    "\n",
    "Chain은 Random Variable(RV)의 descrete time sqeuence를 나타낸다.<br>\n",
    "Markov라는 형용사는, 바로 이전의 상태에만 영향을 받는다고 가정하는 것.<br>\n",
    "즉, squence를 구성하는 RV가 **\"바로 이전의 상태에만 영향\"**을 받는다.\n",
    "\n",
    "$$ p(X_K|X_{k-1}, X_{k-2}, ..., X_1, X_0)=p(X_k|X_{k-1}) $$\n",
    "\n",
    "그리고 몇 가지 추가조건을 만족하면, $X_K$의 분포는 특정한 값으로 수렴한다.<br>\n",
    "수렴하게된 평형상태를 Sationary Distribution이라고 부른다.<br>\n",
    "**\"Sationary Distribution은 초기값에 영향을 받지 않는다.\"**\n",
    "\n",
    "즉, Markov Chain을 통해 sampling을 무한번하게 되면, 이때의 state는 초기 state와는 독립적인 특성을 갖게 된다."
   ]
  },
  {
   "cell_type": "code",
   "execution_count": null,
   "metadata": {
    "collapsed": true
   },
   "outputs": [],
   "source": []
  },
  {
   "cell_type": "code",
   "execution_count": null,
   "metadata": {
    "collapsed": true
   },
   "outputs": [],
   "source": []
  },
  {
   "cell_type": "code",
   "execution_count": null,
   "metadata": {
    "collapsed": true
   },
   "outputs": [],
   "source": []
  },
  {
   "cell_type": "code",
   "execution_count": null,
   "metadata": {
    "collapsed": true
   },
   "outputs": [],
   "source": []
  },
  {
   "cell_type": "code",
   "execution_count": null,
   "metadata": {
    "collapsed": true
   },
   "outputs": [],
   "source": []
  }
 ],
 "metadata": {
  "kernelspec": {
   "display_name": "Python 3",
   "language": "python",
   "name": "python3"
  },
  "language_info": {
   "codemirror_mode": {
    "name": "ipython",
    "version": 3
   },
   "file_extension": ".py",
   "mimetype": "text/x-python",
   "name": "python",
   "nbconvert_exporter": "python",
   "pygments_lexer": "ipython3",
   "version": "3.6.2"
  }
 },
 "nbformat": 4,
 "nbformat_minor": 2
}
