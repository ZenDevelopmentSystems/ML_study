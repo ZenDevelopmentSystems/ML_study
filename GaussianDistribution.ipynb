{
 "cells": [
  {
   "cell_type": "code",
   "execution_count": 4,
   "metadata": {
    "collapsed": true
   },
   "outputs": [],
   "source": [
    "%matplotlib inline"
   ]
  },
  {
   "cell_type": "markdown",
   "metadata": {},
   "source": [
    "# Variance\n",
    "\n",
    "$$\\sigma^{2} = \\frac{1}{N}\\sum^{N}_{i=1}(x_{i}-\\mu)^{2}$$\n",
    "\n",
    "전반적으로 sample point들이 sample의 평균값에서 얼마나 떨어져 있는지에 대한 척도  "
   ]
  },
  {
   "cell_type": "markdown",
   "metadata": {},
   "source": [
    "# Covariance\n",
    "\n",
    "$$Cov(X, Y) = E ((X-\\mu_{x})(Y-\\mu_{y}))$$\n",
    "\n",
    "- X, Y: 확률변수  \n",
    "- $\\mu_{x} = E(X)$: X의 기댓값  \n",
    "- $\\mu_{y} = E(Y)$: Y의 기댓값  \n",
    "- $Cov(X, Y)$: X와 Y의 공분산  "
   ]
  },
  {
   "cell_type": "markdown",
   "metadata": {},
   "source": [
    "# Covariance Matrix\n",
    "\n"
   ]
  },
  {
   "cell_type": "markdown",
   "metadata": {},
   "source": [
    "# Euclidean Distance\n",
    "\n",
    "$$d_{12} = \\left\\| x_{1} - x_{2} \\right\\| = \\sqrt{(x_{1}-x_{2})^{T}(x_{1}-x_{2})} $$\n",
    "\n"
   ]
  },
  {
   "cell_type": "code",
   "execution_count": null,
   "metadata": {
    "collapsed": true
   },
   "outputs": [],
   "source": [
    "sp.spatial.distance.euclidean()"
   ]
  },
  {
   "cell_type": "markdown",
   "metadata": {},
   "source": [
    "# Gaussain Distribution\n",
    "\n",
    "Continous variable을 모델링 할때 주로사용.  \n",
    "\n",
    "single variable $x$의 경우는 아래와 같음.\n",
    "$$\\mathcal{N}(x|\\mu, \\sigma^{2}) = \\frac{1}{(2\\pi\\sigma^{2})^{1/2}}exp\\left\\{-\\frac{1}{2\\sigma^{2}}(x-\\mu^{2})\\right\\}$$\n",
    "\n",
    "D-dimensional vector $\\mathbf{x}$에 대한 multivariate Gaussian distribution은 아래와 같음.\n",
    "$$\\mathcal{N}(x|\\mu, \\Sigma) = \\frac{1}{(2\\pi)^{D/2}}\\frac{1}{|\\Sigma|^{1/2}}exp\\left\\{-\\frac{1}{2\\sigma^{2}}(x-\\mu^{2})\\right\\}$$"
   ]
  },
  {
   "cell_type": "code",
   "execution_count": 17,
   "metadata": {},
   "outputs": [
    {
     "name": "stdout",
     "output_type": "stream",
     "text": [
      "[ 0.1335536  -0.04592946 -0.10849017  0.0322034  -0.06346038  0.09735875\n",
      " -0.03926617  0.05552054  0.10616939  0.0247798 ]\n"
     ]
    },
    {
     "data": {
      "image/png": "[encoded data removed]",
      "text/plain": [
       "<matplotlib.figure.Figure at 0x7f8c48cc75c0>"
      ]
     },
     "metadata": {},
     "output_type": "display_data"
    }
   ],
   "source": [
    "mu, sigma = 0, 0.1\n",
    "samples = np.random.normal(mu, sigma, 1000)\n",
    "print(samples[:10])\n",
    "plt.hist(samples, 10)\n",
    "plt.show()"
   ]
  },
  {
   "cell_type": "code",
   "execution_count": 18,
   "metadata": {},
   "outputs": [
    {
     "data": {
      "image/png": "[encoded data removed]",
      "text/plain": [
       "<matplotlib.figure.Figure at 0x7f8c48b94828>"
      ]
     },
     "metadata": {},
     "output_type": "display_data"
    }
   ],
   "source": [
    "count, bins, ignored = plt.hist(samples, 10, normed=True)\n",
    "plt.plot(bins, 1/(sigma * np.sqrt(2 * np.pi)) * np.exp( - (bins - mu)**2 / (2 * sigma**2) ), linewidth=2, color='r')\n",
    "plt.show()"
   ]
  },
  {
   "cell_type": "markdown",
   "metadata": {},
   "source": [
    "1. Entropy를 최대화하는 distribution\n",
    "2. Multiple random variable의 합에서 관찰"
   ]
  },
  {
   "cell_type": "markdown",
   "metadata": {},
   "source": [
    "TODO: 주축변환(principal axis transform), 야코비안 행렬(Jacobian Matrix)"
   ]
  },
  {
   "cell_type": "markdown",
   "metadata": {
    "collapsed": true
   },
   "source": [
    "# Mahalanobis distance\n",
    "\n",
    "평균과의 거리가 표준편차의 몇 배인지를 나타내는 거리"
   ]
  },
  {
   "cell_type": "markdown",
   "metadata": {},
   "source": [
    "# Eigen vector and Eigne value\n",
    "\n",
    "특정 벡터에 대해 공간을 변형하여도 특성이 그대로 남는 벡터.  \n",
    "TODO: 학부때 기억... 다시 보고 이해한 뒤 수정필요.  "
   ]
  },
  {
   "cell_type": "markdown",
   "metadata": {
    "collapsed": true
   },
   "source": [
    "# Appendix\n",
    "\n",
    "## 1. Transpose\n",
    "Transpose는 matrix의 대각축(diagonal axis)을 기준으로 element들을 flip하는 연산.  \n",
    "\n",
    "## 2. Transpose Matrix\n",
    "\n",
    "Transpose matrix는 matrix의 쌍둥이(twin)를 찾는 것.  \n",
    "서로 쌍둥이인 matrix는 특성(property)을 공유함.  \n"
   ]
  },
  {
   "cell_type": "markdown",
   "metadata": {
    "collapsed": true
   },
   "source": [
    "# References\n",
    "\n",
    "1. [분산과 공분산](http://blog.naver.com/PostView.nhn?blogId=jindog2929&logNo=10161293384)\n",
    "2. [Norm](http://freshrimpsushi.tistory.com/257)\n",
    "3. [Matrix multiplication](https://www.youtube.com/watch?v=XkY2DOUCWMU&list=PLZHQObOWTQDPD3MizzM2xVFitgF8hE_ab&index=5)\n",
    "4. [Why transpose matrix? part 1](https://www.youtube.com/watch?v=ApQyVAv2fEw)\n",
    "5. [Why transpose matrix? part 2](https://www.youtube.com/watch?v=ua79kXIcidA)\n",
    "6. [Why transpose matrix? part 3]()\n",
    "7. [Numpy Gaussian Distribution](https://docs.scipy.org/doc/numpy-1.13.0/reference/generated/numpy.random.normal.html)"
   ]
  }
 ],
 "metadata": {
  "kernelspec": {
   "display_name": "Python 3",
   "language": "python",
   "name": "python3"
  },
  "language_info": {
   "codemirror_mode": {
    "name": "ipython",
    "version": 3
   },
   "file_extension": ".py",
   "mimetype": "text/x-python",
   "name": "python",
   "nbconvert_exporter": "python",
   "pygments_lexer": "ipython3",
   "version": "3.6.3"
  }
 },
 "nbformat": 4,
 "nbformat_minor": 2
}
