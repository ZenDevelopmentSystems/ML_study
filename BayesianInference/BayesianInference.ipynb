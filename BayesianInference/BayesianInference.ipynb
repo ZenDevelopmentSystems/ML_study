{
 "cells": [
  {
   "cell_type": "code",
   "execution_count": 1,
   "metadata": {},
   "outputs": [],
   "source": [
    "%matplotlib inline\n",
    "%load_ext autoreload\n",
    "%autoreload 2"
   ]
  },
  {
   "cell_type": "markdown",
   "metadata": {},
   "source": [
    "# Bayesian Inference\n",
    "\n",
    "## History\n",
    "일반적으로 확률은 빈도주의자(frequentist)와 베이지안(bayesian)의 관점에서 달리 접근 및 해석.  \n",
    "\n",
    "빈도주의자 세계관에서의 확률이 무작위성(randomness)에서 확실한 것을 뽑아내는 것이라면, 베이지안 세계관에서 확률은 **사건 발생에 대한 믿음**으로 사용.  \n",
    "\n",
    "베이지안 관점은 18세기에 완성된 상태. 그러나 일반적인 통계학 교과서는 빈도주의자(frequentist)적인 Neyman-Pearson 통계학에 대해서 주로 해설. 이유는 19세기 말 피셔등이 격렬한 비판을 펼쳐 베이지안 관점이 학회로부터 한차례 매장당했기 때문.  \n",
    "그러다가 [Savage](https://en.wikipedia.org/wiki/Leonard_Jimmie_Savage)등의 통계학자들이 **주관적 확률**의 이론을 구축하여, 20세기 중반 무렵이 되어 재차 주목 받음. \n",
    "\n",
    "여전히 빈도주의 관점은 유용하고, 많은 분야에서 최첨단 기술로 사용.  \n",
    "> 빈도주의 기반의 최소자승선형회귀, 라소회귀, EM 알고리즘 같은 방법은 문제해결에 강력하고 빠름."
   ]
  },
  {
   "cell_type": "markdown",
   "metadata": {},
   "source": [
    "## Inference\n",
    "일반적으로 '추론'은 명확하지 않은 사항에 대해 몇 가지 **증거를 바탕으로 추리**하여 그 **사실을 밝혀내려는 행위**.  \n",
    "과학적인 추론에는 분야별로 고유한 방법이 존재하며, 크게 '논리적 추론'과 '통계적 추론'의 두가지 분야로 나뉨.  \n",
    "\n",
    "일반적으로 통계적 추론은 주어진 데이터에서 모델/분포의 특성을 결정하는 과정.  \n",
    "\n",
    "빈도주의자의 추론 함수는 숫자(표본평균 등의 통계)를 돌려주어 추론을 대신하는 반면, **베이지안 추론 함수는 확률**을 반환. 때문에 베이지안 추론은 **불확실성**을 유지한다는 점에서, 기존의 전통적인 통계적 추론과 다름.   \n",
    "\n",
    "하지만 **베이지안 방법은 빈도주의가 해결하지 못하는 문제를 풀거나, 더 유연한 모델링으로 현재 시스템을 보완.**  "
   ]
  },
  {
   "cell_type": "markdown",
   "metadata": {},
   "source": [
    "## Bayesian Inference in Big data\n",
    "증거의 개수를 N이라 했을때, $N \\rightarrow \\infty$라고 말할 정도로 증거를 많이 모았다면, 베이지안의 결과는 (종종) 빈도주의자의 결과와 일치.  \n",
    "\n",
    "반면, N이 작아질 수록 추론은 훨씬 더 불안정. 빈도주의자의 추정은 변동성이 크고, 신뢰 구간이 더 넒기 때문. 베이지안 분석은 이런 점에서 뛰어남. 사전확률을 도입하고 확률을 돌려줌으로써 불확실성을 유지. 불확실성은 N이 작은 경우 데이터셋에 대한 불안정한 통계적 추론을 반영.  \n",
    "\n",
    "따라서 N이 충분히 큰 경우에는 두 방법이 비슷한 추론을 제공하므로 둘 사이에 큰 차이가 없다고 생각할 수 있으나, 앤드류 젤먼의 말을 인용하면 생각이 변할 수 있음.\n",
    "> **N은 결코 충분하지 않다. 만약 충분하다 하더라도 여러분은 이미 더 많은 데이터가 필요한 다음 문제에 직면하기 때문이다.**  \n",
    "\n",
    "> 만일 N이 충분한 추정을 얻기에 부족하다면 더 많은 데이터(또는 더 많은 가정)을 확보해야 한다. 그러나 일단 N이 '충분히 크다'면 데이터를 나눠 더 많은 것(가령 여론조사에서 전국적으로 훌륭한 추정을 얻었다면 남과 여, 남부와 북부, 여러 연령대 그룹 등으로 나눠 추청할 수 있다)을 얻을 수 있다. \n",
    "\n",
    "**결국 미디엄 데이터나 아주 작은 스몰 데이터를 분석하기 위해 베이지안 추론을 이용.**  "
   ]
  },
  {
   "cell_type": "markdown",
   "metadata": {},
   "source": [
    "# Bayes Theorem\n",
    "\n",
    "Bayes Theorem의 수식은 아래와 같음.  \n",
    "$$P(H|D) = \\frac{P(D|H)*P(H)}{P(D)}$$\n",
    "위 수식에서 H는 Hypothesis를, D는 주어진 Data를 나타냄.  \n",
    "\n",
    "모델 기반의 추론에서는, H(Hypothesis)를 파라미터 $\\theta$로 바꿀 수 있으며, 추론에 어떤 모델을 사용할 것인가와 같은 추가적인 가정(지식)을 나타내는 파라미터 I를 반영 가능. 그리고 이는 아래의 수식으로 표현 가능.\n",
    "\n",
    "$$P(\\theta|D, I) = \\frac{P(D|\\theta, I)*P(\\theta|I)}{P(D|I)}$$\n",
    "\n",
    "Bayesian inference에서 위의 수식들은, **단순히 사전확률[$P(H)$, $P(\\theta|D, I)$]을 업데이트된 사후확률[$P(H|D)$, $P(D|\\theta, I)$]과 연결시키기 위해 이 수식을 사용.**  "
   ]
  },
  {
   "cell_type": "markdown",
   "metadata": {},
   "source": [
    "## A Coin Flipping Example\n",
    "\n"
   ]
  },
  {
   "cell_type": "code",
   "execution_count": 3,
   "metadata": {},
   "outputs": [
    {
     "data": {
      "text/plain": [
       "3"
      ]
     },
     "execution_count": 3,
     "metadata": {},
     "output_type": "execute_result"
    }
   ],
   "source": [
    "a = (1,2,3,4,5)\n",
    "\n",
    "b,c,d,e,f = a\n",
    "\n",
    "d"
   ]
  },
  {
   "cell_type": "markdown",
   "metadata": {},
   "source": [
    "# References\n",
    "\n",
    "1. [세상에서 가장쉬운 베이즈 통계학 입문](http://www.kyobobook.co.kr/product/detailViewKor.laf?ejkGb=KOR&barcode=9788965022718)\n",
    "2. [프로그래머를 위한 베이지안 with 파이썬](http://www.yes24.com/24/goods/57237963)\n",
    "3. [동전던지기 예시를 통한 베이즈 추론](http://nbviewer.jupyter.org/github/psinger/notebooks/blob/master/bayesian_inference.ipynb)"
   ]
  },
  {
   "cell_type": "markdown",
   "metadata": {},
   "source": [
    "# Appendix\n",
    "\n",
    "## Process of Logical Inference\n",
    "모두 흰공이 들어있는 바구니 A, 모두 검은공이 들어있는 바구니 B가 있음.  \n",
    "바구니에서 공을 하나 꺼냈더니 검정색. 검정색 공이라는 것이 추측을 위한 '증거'가 됨.  \n",
    "증거로부터 바구니가 A,B중 어느 쪽 바구니인지 판단.  \n",
    "\n",
    "사실1: A 혹은 B  \n",
    "사실2: A라면 흰 공  \n",
    "사실3: B라면 검은 공  \n",
    "사실4: 검은 공\n",
    "\n",
    "먼저 A라고 가정. 가정과 사실2로부터 흰 공으로 결론. 하지만 흰공, 검은 공은 모순. A가 아님을 알 수 있음.  \n",
    "\n",
    "## Process of Probabilistic inference\n",
    "\n",
    "표준 통계학 추정에서는 '대체로 B일 것이다'를 '리스크는 있지만 B로 결론짓자'는 의미로 사용.  \n",
    "베이즈 추정에서는 '대체로 B일 것이다'를 'A와 B 모두 가능하지만 B쪽의 가능성이 훨씬 클 것이다'라는 입장을 취함.  \n",
    "\n",
    "### Neyman-Pearson\n",
    "대체로라는 확률적 수치가 일정 기준만 만족한다면 잘못된 판달을 할 리스크는 각오한다.  \n",
    "A가 옳을 경우 $\\alpha$라는 낮은 확률로밖에 일어나지 않는 현상이 실제로 관측되었을 때, A가 원래 잘못된 것이라고 판단하여 가설 A를 버린다.  \n",
    "관측되지 않았을 때는 버릴 이유가 없으므로 유지한다.  \n",
    "\n",
    "즉, 이 방법으로 계속 추정해 나가다 보면 $\\alpha$의 비율로 판단을 잘못 내리게 됨.  \n",
    "$\\alpha$는 유의수준을 의미. 유의수준이 리스크의 지표로 사용.  \n",
    "\n",
    "## Maximum Likelihood\n",
    "Neyman-Pearson 통계학과 Bayes 통계학의 접점.  \n",
    "Maximum Likelihood는 '세상에 일어나는 일은 일어날 확률이 큰 것'을 의미.  \n",
    "몇 번 중에 몇 번 일어났다는 사실과 일어날 확률이라는 것이 직접적으로 연결되어 있지는 않음.  \n",
    "이를 입증하는데 maximum likelihood가 사용됨.  \n",
    "N회 관측하여 x회 일어난 경우 maximum likelihood가 $\\frac{x}{N}$이 된다는 사실은 미분법을 사용하여 증명가능.  \n",
    "즉, maximum likelihood는 평균치라는 통계량과 연결. \n",
    "\n",
    "## Prior Probability\n",
    "추측하려는 관찰 대상의 타입에 대한 확률(비율)  \n",
    "사전확률이라 불림. '사전'이란 '어떤 정보가 들어오기 전'을 뜻함  \n",
    "'정보'란 추가적인 상황을 뜻함.  \n",
    "정보에 의해 관찰 대상의 타입에 대한 추측을 업데이트하게 됨  \n",
    "사전확률은 보통 경험에 근거하여 할당.  \n",
    "\n",
    "## Likelihood Probability\n",
    "이미 알고 있는 사건이 발생했다는 조건하에 다른 사건이 발생할 확률\n",
    "\n",
    "## Posterior Probability\n",
    "\n",
    "\n",
    "## Process of Bayeisan Inference\n",
    "\n",
    "1. 타입에 대한 사전확률 설정  \n",
    "2. 각 타입의 행동에 대한 조건부 확률의 설정  \n",
    "3. 행동의 관측  \n",
    "4. 일어나지 않을 가능성의 소거  \n",
    "5. 타인에 대한 확률의 정규화  \n",
    "6. 사후확률(베이즈 역확률)  "
   ]
  }
 ],
 "metadata": {
  "kernelspec": {
   "display_name": "Python 3",
   "language": "python",
   "name": "python3"
  },
  "language_info": {
   "codemirror_mode": {
    "name": "ipython",
    "version": 3
   },
   "file_extension": ".py",
   "mimetype": "text/x-python",
   "name": "python",
   "nbconvert_exporter": "python",
   "pygments_lexer": "ipython3",
   "version": "3.6.3"
  }
 },
 "nbformat": 4,
 "nbformat_minor": 2
}
