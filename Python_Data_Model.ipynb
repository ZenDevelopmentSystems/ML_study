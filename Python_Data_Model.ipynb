{
 "cells": [
  {
   "cell_type": "markdown",
   "metadata": {},
   "source": [
    "# Python Data Model\n",
    "\n",
    "Python data model은 **\"Python을 framework로 표현\"**하는 것.<br>\n",
    "Python data model은 **\"Python스러움(Pythonic)이 가능한 핵심기반\"**을 제공.<br>\n",
    "Pythonic은 모호한 개념이지만, \"객체지향 언어로 절차지향 처럼 코딩하지 않는 것\"과 비슷한 뉘앙스를 갖음.<br>\n",
    "\n",
    "\n"
   ]
  },
  {
   "cell_type": "markdown",
   "metadata": {},
   "source": [
    "## 1. Object\n",
    "\n",
    "Object 는 Python에서 제공하는 data를 위한 뼈대.<br>\n",
    "Python에서 **\"모든 data는 object로 표현되거나 object의 관계로 표현\"**.<br>\n",
    "모든 **\"object는 identity, type, value를 갖음\"**.<br>\n",
    "\n",
    "Object 생성 코드는 아래와 같다."
   ]
  },
  {
   "cell_type": "code",
   "execution_count": 24,
   "metadata": {},
   "outputs": [
    {
     "name": "stdout",
     "output_type": "stream",
     "text": [
      "1\n",
      "2\n",
      "2\n"
     ]
    }
   ],
   "source": [
    "a = 1\n",
    "b = 2\n",
    "c = 2\n",
    "print(a)\n",
    "print(b)\n",
    "print(c)"
   ]
  },
  {
   "cell_type": "markdown",
   "metadata": {},
   "source": [
    "### a) Identity\n",
    "Object의 identity는 절대 바꿀 수 없음. Objcet가 저장된 memory의 주소라 생각해도 무방.<br>\n",
    "**`is` 연산자는 두 object의 identity를 비교**하는 연산자.<br>\n",
    "**`id()` 함수는 object의 identity를 integer로 리턴**.<br>\n",
    "\n",
    "identity 관련 실행코드는 아래와 같다."
   ]
  },
  {
   "cell_type": "code",
   "execution_count": 25,
   "metadata": {},
   "outputs": [
    {
     "name": "stdout",
     "output_type": "stream",
     "text": [
      "ID of a:  1410123504\n",
      "ID of b:  1410123536\n",
      "ID of c:  1410123536 \n",
      "\n",
      "a is a?:  True\n",
      "b is b?:  True\n",
      "a is b?:  False\n",
      "b is c?:  True\n"
     ]
    }
   ],
   "source": [
    "print('ID of a: ', id(a))\n",
    "print('ID of b: ', id(b))\n",
    "print('ID of c: ', id(c), '\\n')\n",
    "print('a is a?: ', a is a)\n",
    "print('b is b?: ', b is b)\n",
    "print('a is b?: ', a is b)\n",
    "print('b is c?: ', b is c)"
   ]
  },
  {
   "cell_type": "markdown",
   "metadata": {},
   "source": [
    "### b) Type\n",
    "\n",
    "Object의 type은 절대 바꿀 수 없음. Type은 object가 지원하는 **\"operation과 가능한 value를 결정\"**.<br>\n",
    "**`type()`함수로 object의 type을 확인 가능.**\n",
    "\n",
    "Type 관련 실행코드는 아래와 같다."
   ]
  },
  {
   "cell_type": "code",
   "execution_count": 26,
   "metadata": {},
   "outputs": [
    {
     "name": "stdout",
     "output_type": "stream",
     "text": [
      "<class 'int'>\n",
      "<class 'int'>\n",
      "<class 'int'>\n"
     ]
    }
   ],
   "source": [
    "type_a = type(a)\n",
    "type_b = type(b)\n",
    "\n",
    "print(type_a)\n",
    "print(type_b)\n",
    "print(type(c))"
   ]
  },
  {
   "cell_type": "markdown",
   "metadata": {},
   "source": [
    "### c) Value\n",
    "Object의 **\"Type에 따라 value는 변하거나 변할 수 없음\"**.<br>\n",
    "Value가 변할 수 있는 object를 **\"mutable\"** 하다고 말함.<br>\n",
    "Value가 변할 수 없는 object를 **\"immutable\"** 하다고 말함.<br>\n",
    "\n",
    "기본 제공되는 Object의 type별로 mutability를 구분하면 아래와 같음.<br>\n",
    "**mutable: dictionaries, lists**<br>\n",
    "**immutable: numbers, strings, tuples**<br> \n",
    "\n",
    "**`==` 연산자는 두 object의 value를 비교**하는 연산자.<br>\n",
    "\n",
    "Value 관련 실행코드는 아래와 같다."
   ]
  },
  {
   "cell_type": "code",
   "execution_count": 51,
   "metadata": {},
   "outputs": [
    {
     "name": "stdout",
     "output_type": "stream",
     "text": [
      "Mutable: Before\n",
      "list_a:  1471186396232 <class 'list'> [1, 2, 3, 4, 5]\n",
      "list_b:  1471186396232 <class 'list'> [1, 2, 3, 4, 5]\n",
      "Has a same value?:  True\n",
      "\n",
      "Mutable: After\n",
      "list_a:  1471186396232 <class 'list'> [1, 2, 3, 4, 5, 6]\n",
      "list_b:  1471186396232 <class 'list'> [1, 2, 3, 4, 5, 6]\n",
      "Has a same value?:  True\n",
      "\n",
      "Immutable: Before\n",
      "tuple_a:  1471187234248 <class 'tuple'> (1, 2)\n",
      "tuple_b:  1471187234248 <class 'tuple'> (1, 2)\n",
      "Has a same value?:  True\n",
      "\n",
      "Immutable: After\n",
      "tuple_a:  1471187234248 <class 'tuple'> (1, 2)\n",
      "tuple_b:  1471072735808 <class 'tuple'> (1, 2, 3)\n",
      "Has a same value?:  False\n",
      "\n",
      "Immutable: Before\n",
      "num_a:  1410123504 <class 'int'> 1\n",
      "num_b:  1410123504 <class 'int'> 1\n",
      "Has a same value?:  True\n",
      "\n",
      "Immutable: After\n",
      "num_a:  1410123504 <class 'int'> 1\n",
      "num_b:  1410123600 <class 'int'> 4\n",
      "Has a same value?:  False\n"
     ]
    }
   ],
   "source": [
    "## Mutable\n",
    "# List\n",
    "list_a = [1,2,3,4,5]\n",
    "list_b = list_a\n",
    "\n",
    "print(\"Mutable: Before\")\n",
    "print(\"list_a: \", id(list_a), type(list_a), list_a)\n",
    "print(\"list_b: \", id(list_b), type(list_b), list_b)\n",
    "print(\"Has a same value?: \", list_a == list_b)\n",
    "\n",
    "list_b += [6]\n",
    "\n",
    "print(\"\\nMutable: After\")\n",
    "print(\"list_a: \", id(list_a), type(list_a), list_a)\n",
    "print(\"list_b: \", id(list_b), type(list_b), list_b)\n",
    "print(\"Has a same value?: \", list_a == list_b)\n",
    "\n",
    "## Immutable\n",
    "# Tuple\n",
    "tuple_a = (1,2)\n",
    "tuple_b = tuple_a\n",
    "\n",
    "print(\"\\nImmutable: Before\")\n",
    "print(\"tuple_a: \", id(tuple_a), type(tuple_a), tuple_a)\n",
    "print(\"tuple_b: \", id(tuple_b), type(tuple_b), tuple_b)\n",
    "print(\"Has a same value?: \", tuple_a == tuple_b)\n",
    "\n",
    "tuple_b += (3,)\n",
    "\n",
    "print(\"\\nImmutable: After\")\n",
    "print(\"tuple_a: \", id(tuple_a), type(tuple_a), tuple_a)\n",
    "print(\"tuple_b: \", id(tuple_b), type(tuple_b), tuple_b)\n",
    "print(\"Has a same value?: \", tuple_a == tuple_b)\n",
    "\n",
    "\n",
    "# Number\n",
    "num_a = 1\n",
    "num_b = num_a\n",
    "\n",
    "print(\"\\nImmutable: Before\")\n",
    "print(\"num_a: \", id(num_a), type(num_a), num_a)\n",
    "print(\"num_b: \", id(num_b), type(num_b), num_b)\n",
    "print(\"Has a same value?: \", num_a == num_b)\n",
    "\n",
    "num_b += 3\n",
    "print(\"\\nImmutable: After\")\n",
    "print(\"num_a: \", id(num_a), type(num_a), num_a)\n",
    "print(\"num_b: \", id(num_b), type(num_b), num_b)\n",
    "print(\"Has a same value?: \", num_a == num_b)\n"
   ]
  },
  {
   "cell_type": "markdown",
   "metadata": {},
   "source": [
    "### d) Garbage Collector\n",
    "Object는 절대 명시적으로 파괴될 수 없음.<br>\n",
    "**\"Garbage Collector가 object를 관리하여 파괴.\"**<br>\n",
    "**`del` 연산자**로 우선순위 할당 가능.<br>"
   ]
  },
  {
   "cell_type": "code",
   "execution_count": null,
   "metadata": {
    "collapsed": true
   },
   "outputs": [],
   "source": []
  },
  {
   "cell_type": "code",
   "execution_count": null,
   "metadata": {
    "collapsed": true
   },
   "outputs": [],
   "source": []
  },
  {
   "cell_type": "code",
   "execution_count": null,
   "metadata": {
    "collapsed": true
   },
   "outputs": [],
   "source": []
  },
  {
   "cell_type": "markdown",
   "metadata": {},
   "source": [
    "## References\n",
    "\n",
    "1. [Python 3.6.3, Data model documentation](https://docs.python.org/3.6/reference/datamodel.html)\n",
    "2. [Fluent Python](http://1.droppdf.com/files/X06AR/fluent-python-2015-.pdf)"
   ]
  }
 ],
 "metadata": {
  "kernelspec": {
   "display_name": "Python 3",
   "language": "python",
   "name": "python3"
  },
  "language_info": {
   "codemirror_mode": {
    "name": "ipython",
    "version": 3
   },
   "file_extension": ".py",
   "mimetype": "text/x-python",
   "name": "python",
   "nbconvert_exporter": "python",
   "pygments_lexer": "ipython3",
   "version": "3.6.2"
  }
 },
 "nbformat": 4,
 "nbformat_minor": 2
}
