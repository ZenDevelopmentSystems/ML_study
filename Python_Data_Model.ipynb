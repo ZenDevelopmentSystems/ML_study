{
 "cells": [
  {
   "cell_type": "markdown",
   "metadata": {},
   "source": [
    "### Preface \n",
    "해당 문서는 Python [공식문서](https://docs.python.org/3.6/reference/datamodel.html)의 data model 부분과 [Fluent Python](http://1.droppdf.com/files/X06AR/fluent-python-2015-.pdf)의 1장과 9장을 주로 참고하여 작성.<br>\n",
    "\n",
    "현재는 Python data model에서 기본이라 생각되는 아래의 2가지 사항만 다룸.<br>\n",
    "1. Object\n",
    "2. Special method\n",
    "\n",
    "그 외에도 `The standard type hierarchy`, `Coroutines`에 관한 내용이 있으니, 자세한 내용은 [공식문서](https://docs.python.org/3.6/reference/datamodel.html)\n",
    "를 참조."
   ]
  },
  {
   "cell_type": "markdown",
   "metadata": {},
   "source": [
    "# Python Data Model\n",
    "\n",
    "Python data model은 **\"Python을 framework로 표현\"**하여, **\"Python스러움(Pythonic)이 가능한 핵심기반\"**을 제공.<br>\n",
    "때문에 사용자 정의 자료형(Class)도 special method를 통해 내장자료형처럼 Pythonic하게 동작이 가능.<br>\n",
    "\n",
    "Pythonic은 모호한 개념이지만, \"객체지향 언어로 절차지향 처럼 코딩하지 않는 것\"과 비슷한 뉘앙스를 갖음.<br>\n",
    "Pythonic에 대한 사항은 `import this`를 통해 알 수 있음.<br>"
   ]
  },
  {
   "cell_type": "code",
   "execution_count": 1,
   "metadata": {},
   "outputs": [
    {
     "name": "stdout",
     "output_type": "stream",
     "text": [
      "The Zen of Python, by Tim Peters\n",
      "\n",
      "Beautiful is better than ugly.\n",
      "Explicit is better than implicit.\n",
      "Simple is better than complex.\n",
      "Complex is better than complicated.\n",
      "Flat is better than nested.\n",
      "Sparse is better than dense.\n",
      "Readability counts.\n",
      "Special cases aren't special enough to break the rules.\n",
      "Although practicality beats purity.\n",
      "Errors should never pass silently.\n",
      "Unless explicitly silenced.\n",
      "In the face of ambiguity, refuse the temptation to guess.\n",
      "There should be one-- and preferably only one --obvious way to do it.\n",
      "Although that way may not be obvious at first unless you're Dutch.\n",
      "Now is better than never.\n",
      "Although never is often better than *right* now.\n",
      "If the implementation is hard to explain, it's a bad idea.\n",
      "If the implementation is easy to explain, it may be a good idea.\n",
      "Namespaces are one honking great idea -- let's do more of those!\n"
     ]
    }
   ],
   "source": [
    "import this"
   ]
  },
  {
   "cell_type": "markdown",
   "metadata": {},
   "source": [
    "## 1. Object\n",
    "\n",
    "Object 는 Python에서 제공하는 data를 위한 뼈대.<br>\n",
    "Python에서 **\"모든 data는 object로 표현되거나 object의 관계로 표현\"**.<br>\n",
    "모든 \"object는 **identity**, **type**, **value**를 갖음\".<br>\n",
    "\n",
    "Object 생성 코드는 아래와 같다."
   ]
  },
  {
   "cell_type": "code",
   "execution_count": 2,
   "metadata": {},
   "outputs": [
    {
     "name": "stdout",
     "output_type": "stream",
     "text": [
      "1\n",
      "2\n",
      "2\n"
     ]
    }
   ],
   "source": [
    "a = 1\n",
    "b = 2\n",
    "c = 2\n",
    "print(a)\n",
    "print(b)\n",
    "print(c)"
   ]
  },
  {
   "cell_type": "markdown",
   "metadata": {},
   "source": [
    "### a) Identity\n",
    "Object의 identity는 절대 바꿀 수 없음. Objcet가 저장된 memory의 주소라 생각해도 무방.<br>\n",
    "**`is` 연산자는 두 object의 identity를 비교**하는 연산자.<br>\n",
    "**`id()` 함수는 object의 identity를 integer로 리턴**.<br>\n",
    "\n",
    "identity 관련 실행코드는 아래와 같다."
   ]
  },
  {
   "cell_type": "code",
   "execution_count": 3,
   "metadata": {},
   "outputs": [
    {
     "name": "stdout",
     "output_type": "stream",
     "text": [
      "ID of a:  1410123504\n",
      "ID of b:  1410123536\n",
      "ID of c:  1410123536 \n",
      "\n",
      "a is a?:  True\n",
      "b is b?:  True\n",
      "a is b?:  False\n",
      "b is c?:  True\n"
     ]
    }
   ],
   "source": [
    "print('ID of a: ', id(a))\n",
    "print('ID of b: ', id(b))\n",
    "print('ID of c: ', id(c), '\\n')\n",
    "print('a is a?: ', a is a)\n",
    "print('b is b?: ', b is b)\n",
    "print('a is b?: ', a is b)\n",
    "print('b is c?: ', b is c)"
   ]
  },
  {
   "cell_type": "markdown",
   "metadata": {},
   "source": [
    "### b) Type\n",
    "\n",
    "Object의 type은 절대 바꿀 수 없음. Type은 object가 지원하는 **\"operation과 가능한 value를 결정\"**.<br>\n",
    "**`type()`함수로 object의 type을 확인 가능.**\n",
    "\n",
    "Type 관련 실행코드는 아래와 같다."
   ]
  },
  {
   "cell_type": "code",
   "execution_count": 4,
   "metadata": {},
   "outputs": [
    {
     "name": "stdout",
     "output_type": "stream",
     "text": [
      "<class 'int'>\n",
      "<class 'int'>\n",
      "<class 'int'>\n"
     ]
    }
   ],
   "source": [
    "type_a = type(a)\n",
    "type_b = type(b)\n",
    "\n",
    "print(type_a)\n",
    "print(type_b)\n",
    "print(type(c))"
   ]
  },
  {
   "cell_type": "markdown",
   "metadata": {},
   "source": [
    "### c) Value\n",
    "Object의 **\"Type에 따라 value는 변하거나 변할 수 없음\"**.<br>\n",
    "Value가 변할 수 있는 object를 **\"mutable\"** 하다고 말함.<br>\n",
    "Value가 변할 수 없는 object를 **\"immutable\"** 하다고 말함.<br>\n",
    "\n",
    "기본 제공되는 Object의 type별로 mutability를 구분하면 아래와 같음.<br>\n",
    "**mutable: dictionaries, lists**<br>\n",
    "**immutable: numbers, strings, tuples**<br> \n",
    "\n",
    "**`==` 연산자는 두 object의 value를 비교**하는 연산자.<br>\n",
    "\n",
    "Value 관련 실행코드는 아래와 같다."
   ]
  },
  {
   "cell_type": "code",
   "execution_count": 43,
   "metadata": {},
   "outputs": [
    {
     "name": "stdout",
     "output_type": "stream",
     "text": [
      "Mutable: Before\n",
      "list_a:  1385224247048 <class 'list'> [1, 2, 3, 4, 5]\n",
      "list_b:  1385224247048 <class 'list'> [1, 2, 3, 4, 5]\n",
      "Has a same value?:  True\n",
      "\n",
      "Mutable: After\n",
      "list_a:  1385224247048 <class 'list'> [1, 2, 3, 4, 5, 6]\n",
      "list_b:  1385224247048 <class 'list'> [1, 2, 3, 4, 5, 6]\n",
      "Has a same value?:  True\n",
      "\n",
      "Immutable: Before\n",
      "tuple_a:  1385223531848 <class 'tuple'> (1, 2)\n",
      "tuple_b:  1385223531848 <class 'tuple'> (1, 2)\n",
      "Has a same value?:  True\n",
      "\n",
      "Immutable: After\n",
      "tuple_a:  1385223531848 <class 'tuple'> (1, 2)\n",
      "tuple_b:  1385223537936 <class 'tuple'> (1, 2, 3)\n",
      "tuple_c:  1385223579144 <class 'tuple'> (1, 2)\n",
      "Has a same value?:  False\n",
      "\n",
      "Immutable: Before\n",
      "num_a:  1410123504 <class 'int'> 1\n",
      "num_b:  1410123504 <class 'int'> 1\n",
      "Has a same value?:  True\n",
      "\n",
      "Immutable: After\n",
      "num_a:  1410123504 <class 'int'> 1\n",
      "num_b:  1410123600 <class 'int'> 4\n",
      "Has a same value?:  False\n"
     ]
    }
   ],
   "source": [
    "## Mutable\n",
    "# List\n",
    "list_a = [1,2,3,4,5]\n",
    "list_b = list_a\n",
    "\n",
    "print(\"Mutable: Before\")\n",
    "print(\"list_a: \", id(list_a), type(list_a), list_a)\n",
    "print(\"list_b: \", id(list_b), type(list_b), list_b)\n",
    "print(\"Has a same value?: \", list_a == list_b)\n",
    "\n",
    "list_b += [6]\n",
    "\n",
    "print(\"\\nMutable: After\")\n",
    "print(\"list_a: \", id(list_a), type(list_a), list_a)\n",
    "print(\"list_b: \", id(list_b), type(list_b), list_b)\n",
    "print(\"Has a same value?: \", list_a == list_b)\n",
    "\n",
    "## Immutable\n",
    "# Tuple\n",
    "tuple_a = (1,2)\n",
    "tuple_b = tuple_a\n",
    "tuple_c = (1,2)\n",
    "\n",
    "print(\"\\nImmutable: Before\")\n",
    "print(\"tuple_a: \", id(tuple_a), type(tuple_a), tuple_a)\n",
    "print(\"tuple_b: \", id(tuple_b), type(tuple_b), tuple_b)\n",
    "print(\"Has a same value?: \", tuple_a == tuple_b)\n",
    "\n",
    "tuple_b += (3,)\n",
    "\n",
    "print(\"\\nImmutable: After\")\n",
    "print(\"tuple_a: \", id(tuple_a), type(tuple_a), tuple_a)\n",
    "print(\"tuple_b: \", id(tuple_b), type(tuple_b), tuple_b)\n",
    "print(\"tuple_c: \", id(tuple_c), type(tuple_c), tuple_c)\n",
    "print(\"Has a same value?: \", tuple_a == tuple_b)\n",
    "\n",
    "\n",
    "# Number\n",
    "num_a = 1\n",
    "num_b = num_a\n",
    "\n",
    "print(\"\\nImmutable: Before\")\n",
    "print(\"num_a: \", id(num_a), type(num_a), num_a)\n",
    "print(\"num_b: \", id(num_b), type(num_b), num_b)\n",
    "print(\"Has a same value?: \", num_a == num_b)\n",
    "\n",
    "num_b += 3\n",
    "print(\"\\nImmutable: After\")\n",
    "print(\"num_a: \", id(num_a), type(num_a), num_a)\n",
    "print(\"num_b: \", id(num_b), type(num_b), num_b)\n",
    "print(\"Has a same value?: \", num_a == num_b)\n"
   ]
  },
  {
   "cell_type": "markdown",
   "metadata": {},
   "source": [
    "### d) Garbage Collector\n",
    "Object는 절대 명시적으로 파괴될 수 없음. 즉, Python에는 object를 직접 제거하는 메커니즘이 없음.<br>\n",
    "**\"Garbage Collector가 object를 관리.\"**<br>\n",
    "\n",
    "**\"Reference count\"**는 특정 메모리 주소를 참조하는 곳의 수.<br>\n",
    "0이 될 경우, 다음 garbage collection때 메모리에서 해제.<br>\n",
    "\n",
    "**\"Garbage Collection\"**은 필요없는 메모리를 자동으로 해제해 주는 것.<br> \n",
    "Generation으로 나눠서 메모리를 관리. **가장 낮은 generation부터 garbage collection**<br>\n",
    "Reference count와 휴리스틱 등을 메모리 해제 기준으로 이용.<br>\n",
    "\n",
    "`del` 연산자는 **\"변수의 선언을 취소\"**해 주는 연산자.<br>\n",
    "`del` 연산자를 적용했다고 해서 메모리가 해제된 것은 아님.<br> \n",
    "\n",
    "<span style=\"color:green\"><b>TODO</b>: gc의 기능</span>\n",
    "\n",
    "Garbage Collector 관련 코드는 아래와 같다."
   ]
  },
  {
   "cell_type": "code",
   "execution_count": 41,
   "metadata": {},
   "outputs": [
    {
     "name": "stdout",
     "output_type": "stream",
     "text": [
      "14340 14340\n",
      "2\n",
      "3\n"
     ]
    }
   ],
   "source": [
    "import sys, gc\n",
    "\n",
    "# 1의 메모리 주소를 참조하는 수\n",
    "print(sys.getrefcount(1), sys.getrefcount(a))\n",
    "\n",
    "# 특정 set을 생성\n",
    "f = {'machine', 'learning', 'python'}\n",
    "print(sys.getrefcount(f))\n",
    "g = f\n",
    "print(sys.getrefcount(f))"
   ]
  },
  {
   "cell_type": "markdown",
   "metadata": {},
   "source": [
    "## 2. Sepcial method\n",
    "\n",
    "Special method는 Python interpreter가 호출하기 위한 것.<br>\n",
    "Special method는 class(사용자 정의 object)에서 정의 가능.<br>\n"
   ]
  },
  {
   "cell_type": "markdown",
   "metadata": {},
   "source": []
  },
  {
   "cell_type": "markdown",
   "metadata": {},
   "source": [
    "_는 Python에서 특별한 의미를 가짐\n",
    "\n",
    "__를 dunder(double underbar의 줄임말)라 부름\n",
    "\n",
    "사용자가 표준 연산을 수행하기 위해 클래스 자체에서 구현한 임의 메서드명을 암기할 필요가 없음.<br>\n",
    "파이썬 표준 라이브러리에서 제공하는 풍부한 기능을 별도로 구현할 필요 없이 바로 사용할 수 있음.<br>\n",
    "특별 메서드를 구현함으로써 사용자가 정의한 객체는 표준 파이썬 시퀀스처럼 작동하므로 반복 및 슬라이싱 등의 핵심 언어 기능을 사용할 수 있다."
   ]
  },
  {
   "cell_type": "markdown",
   "metadata": {
    "collapsed": true
   },
   "source": [
    "특별 메서드는 파이썬 인터프리터가 호출하기 위한 것\n",
    "일부 특별 메서드는 암묵적으로 호출(iter())\n",
    "일반적으로 사용자 코드에서 특별 메서드를 직접 호출하는 경우는 많지 않으며, 특별 메서드를 호출해야하는 경우에는 관련된 내장 함수를 호출하는 것이 좋음\n",
    "사용자 정의 속성을 만들 때 이중 언더바를 가진 형태의 속성명은 사용하지 말 것, 현재 이런 속성명이 사용되고 있지 않더라도 나중에 특별한 의미를 갖도록 정의될 수 있기 떄문`"
   ]
  },
  {
   "cell_type": "markdown",
   "metadata": {},
   "source": []
  },
  {
   "cell_type": "code",
   "execution_count": null,
   "metadata": {
    "collapsed": true
   },
   "outputs": [],
   "source": [
    "name = \"Fred\"\n",
    "print(\"He said his name is {name}\")\n",
    "print(f\"He said his name is {name}\")"
   ]
  },
  {
   "cell_type": "markdown",
   "metadata": {},
   "source": [
    "## References\n",
    "\n",
    "1. [Python 3.6.3, Data model documentation](https://docs.python.org/3.6/reference/datamodel.html)\n",
    "2. [Fluent Python](http://1.droppdf.com/files/X06AR/fluent-python-2015-.pdf)\n",
    "3. [The Hitchhiker's Guide to the Python Memory](https://speakerdeck.com/devunt/the-hitchhikers-guide-to-the-python-memory)"
   ]
  }
 ],
 "metadata": {
  "kernelspec": {
   "display_name": "Python 3",
   "language": "python",
   "name": "python3"
  },
  "language_info": {
   "codemirror_mode": {
    "name": "ipython",
    "version": 3
   },
   "file_extension": ".py",
   "mimetype": "text/x-python",
   "name": "python",
   "nbconvert_exporter": "python",
   "pygments_lexer": "ipython3",
   "version": "3.6.2"
  }
 },
 "nbformat": 4,
 "nbformat_minor": 2
}
