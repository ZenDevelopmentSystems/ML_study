{
 "cells": [
  {
   "cell_type": "markdown",
   "metadata": {},
   "source": [
    "### Preface\n",
    "\n",
    "본 문서는 확률개념 이해에 필수적인 Sample부터 Probability Space까지 다룸.<br>\n",
    "잘못되거나 부족한 부분들은 수정 및 업데이트 예정.<br>"
   ]
  },
  {
   "cell_type": "markdown",
   "metadata": {},
   "source": [
    "# Sample\n",
    "\n",
    "선택된 특정 대상. 보통 $\\omega $로 표기.<br>\n",
    "사과라는 집합에서 선택한 특정 사과를 sample이라 할 수 있음.<br>\n",
    "\n",
    "선택한 특정 사과는 부피, 무게 등 여러 숫자정보를 가질 수 있음.<br>"
   ]
  },
  {
   "cell_type": "markdown",
   "metadata": {},
   "source": [
    "# Sample Space\n",
    "\n",
    "선택될 수 있는 모든 sample의 집합. 보통 $\\Omega$로 표기.<br>\n",
    "다양한 각각의 사과들이 모여서 사과라는 집합의 sample space를 이룸.<br>"
   ]
  },
  {
   "cell_type": "markdown",
   "metadata": {},
   "source": [
    "# Random Variable\n",
    "\n",
    "Sample space를 domain으로 갖고 [real-number](#Real-Number)를 domain으로 갖는 **\"함수\"**  \n",
    "풀어쓰자면, Sample space의 sample을 측정가능한 1차원의 실수(real-number)값으로 변환하는 함수.<br>\n",
    "숫자가 분석이 가능하기 때문에, 수학적 분석을 위해 sample을 실수로 변환.<br>\n",
    "크게 discrete random variable과 continous random variable로 구분됨.<br>\n",
    "\n",
    "discrete은 유한하거나 무한하더라도 셀 수 있어야 함.<br>\n",
    "\n",
    "Sample이 직선상의 한 점으로 표현됨.<br>\n",
    "\n",
    "사과박스에서 사과를 하나 고를때, 선택한 사과의 부피값을 random variable로 볼 수 있음.<br>\n",
    "\n",
    ">**TODO: **\n",
    "아래의 예제가 확률변수인지 판단 해볼것. 또한 확률변수이면 이산형인지 연속형인지 구분 할 것.<br>\n",
    "1. A회사 직원들 중 임의로 한 명을 뽑는다고 할 때 그가 소유한 차량의 종류\n",
    "2. 어느 공장에서 생산되는 전구의 수명\n",
    "3. 월마트의 지난주 판매량\n",
    "4. 어떤 학생이 집에서 학교까지 등교하는 데 걸리는 시간\n",
    "5. 52장의 트럼프 카드로부터 3장을 뽑을 때 나오는 퀸 카드의 횟수\n",
    "6. A반 학생인 홍길동의 체중\n",
    "7. 20문항의 객관식 시험에서 어떤 학생이 맞춘 정답의 수"
   ]
  },
  {
   "cell_type": "markdown",
   "metadata": {},
   "source": [
    "# Multivariate Random Variable\n",
    "\n",
    "Sample을 분석가능한 n차원의 실수(real-number)의 세계로 옮겨주는 함수.<br>\n",
    "Sample이 n개의 축으로 표현된 공간의 점으로 표현됨.<br>\n",
    "\n",
    "사과박스에서 사과를 하나 고를때, 선택한 사과의 부피와 무게에 대한 벡터를 multivariate random variable로 볼 수 있음.<br>\n",
    "각 element간의 correlation의 확인이 중요함  \n"
   ]
  },
  {
   "cell_type": "markdown",
   "metadata": {},
   "source": [
    "# Event\n",
    "\n",
    "관심을 갖는 대상들. Sample Space의 부분집합.<br>\n",
    "Random variable을 통해 얻어진 1차원 실수에서는 특정 구간으로 표현 가능.<br>\n",
    "Multivariate random variable을 통해 얻어진 n차원 실수공간(벡터공간)에서는 특정 공간으로 표현 가능.<br>\n",
    "\n",
    "사과박스에서 사과를 하나 고를때, 선택한 사과의 부피가 $2cm^{3} \\sim 5cm^{3}$인 경우<br>\n",
    "직선에서 2와 5사이의 구간으로 표현가능.<br>\n",
    "\n",
    "사과박스에서 사과를 하나 고를때, 선택한 사과의 무게가 $1kg \\sim 3kg$이고, 부피가 $2cm^{3} \\sim 5cm^{3}$인 경우<br>\n",
    "2차원 평면에서 두 구간이 겹치는 공간으로 표현가능.<br>"
   ]
  },
  {
   "cell_type": "markdown",
   "metadata": {},
   "source": [
    "# Probability\n",
    "\n",
    "Event를 입력으로 받아서 probability value를 출력으로 주는 함수.<br>\n",
    "보통 대문자 $P(E)$를 이용하여 표기.<br>\n",
    "\n",
    "Probability value는 Frequentist와 Bayesian 사이에서 다르게 해석.  \n",
    "Frequentist는 해당 sample이 특정 event의 element가 될 경향으로 해석.  \n",
    "Bayesian은 믿음으로 해석.  "
   ]
  },
  {
   "cell_type": "markdown",
   "metadata": {},
   "source": [
    "# Probability Space\n",
    "\n",
    "Probability value를 할당할 event들을 정의하고 여기에 각각 probability value를 할당한 결과.<br>\n",
    "Sample을 확률적으로 생성하기 위한 모든 준비가 완료된 상태.<br>"
   ]
  },
  {
   "cell_type": "markdown",
   "metadata": {},
   "source": [
    "# Appendix\n",
    "\n",
    "### Function\n",
    "두 **\"집합\"** 간의 특별한 대응관계.  \n",
    "Domain의 원소는 range의 원소에 무조건 대응되어야 함. Domain의 원소 여러개가 range의 원소 하나에 대응은 가능.\n",
    "\n",
    "\n",
    "### Independent\n",
    "먼저 일어난 실험, 또는 사건은 뒤에 발생할 실험 또는 사건에 영향을 미치지 않음.<br>\n",
    "\n",
    "### Random\n",
    "앞서 일어난 사건에 영향을 받지 않고, 그 다음 사건이 일어남<br>\n",
    "각각의 사건들은 서로 [independent](#Independent).<br>\n",
    "\n",
    "### Random Experiment(Trial)\n",
    "반복적으로 매번 같은 조건하에서 실험을 하더라도 다른 결과를 나타낼 수 있는 시행.<br>\n",
    "\n",
    "### Real Number\n",
    "유리수와 무리수로 이루어진 수의 집합. 실수와 동등한 레벨의 수는 허수가 있음.  \n",
    "**\"분수(두 정수의 비)\"**로 표현이 가능한 숫자를 유리수. 가능하지 않은 숫자를 무리수라 함.     \n",
    "실수는 수직선에 나타낼 수 있고, 대소 비교가 가능. 사칙연산에 대해 닫혀있음.  "
   ]
  },
  {
   "cell_type": "markdown",
   "metadata": {},
   "source": [
    "# References\n",
    "\n",
    "1. [데이터 사이언스 스쿨](https://datascienceschool.net/view-notebook/9341c66303174eea9d35b2e4b6981ed9/)\n",
    "2. [Applied statistics and probability for engineers 5th edition](http://jhkim5.tistory.com/entry/%ED%86%B5%EA%B3%84%ED%95%99-%EB%91%90%EB%B2%88%EC%A7%B8-%EC%9A%A9%EC%96%B4-%EB%B0%8F-%EA%B0%9C%EB%85%90-%EC%A0%95%EB%A6%AC-1)\n",
    "3. [Box and Whisker blog](http://www.boxnwhis.kr/2015/05/21/binomial_dist_in_games.html)"
   ]
  },
  {
   "cell_type": "code",
   "execution_count": 1,
   "metadata": {},
   "outputs": [
    {
     "data": {
      "image/png": "[encoded data removed]",
      "text/plain": [
       "<matplotlib.figure.Figure at 0x218adefd198>"
      ]
     },
     "metadata": {},
     "output_type": "display_data"
    }
   ],
   "source": [
    "import scipy as sp\n",
    "\n",
    "x = np.linspace(-3, 3, 100)\n",
    "y = sp.stats.norm.pdf(x)\n",
    "plt.plot(x, y)\n",
    "plt.show()"
   ]
  },
  {
   "cell_type": "code",
   "execution_count": null,
   "metadata": {
    "collapsed": true
   },
   "outputs": [],
   "source": []
  },
  {
   "cell_type": "code",
   "execution_count": null,
   "metadata": {
    "collapsed": true
   },
   "outputs": [],
   "source": []
  }
 ],
 "metadata": {
  "kernelspec": {
   "display_name": "Python 3",
   "language": "python",
   "name": "python3"
  },
  "language_info": {
   "codemirror_mode": {
    "name": "ipython",
    "version": 3
   },
   "file_extension": ".py",
   "mimetype": "text/x-python",
   "name": "python",
   "nbconvert_exporter": "python",
   "pygments_lexer": "ipython3",
   "version": "3.6.2"
  }
 },
 "nbformat": 4,
 "nbformat_minor": 2
}
