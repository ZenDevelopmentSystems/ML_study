{
 "cells": [
  {
   "cell_type": "markdown",
   "metadata": {},
   "source": [
    "#### Preface\n",
    "\n",
    "본 문서는 확률개념 이해에 필수적인 Sample부터 Probability Space까지 다룸.<br>"
   ]
  },
  {
   "cell_type": "markdown",
   "metadata": {},
   "source": [
    "# Sample\n",
    "\n",
    "관심 대상. 보통 $\\omega $로 표기"
   ]
  },
  {
   "cell_type": "markdown",
   "metadata": {},
   "source": [
    "# Sample Space\n",
    "\n",
    "관심 대상의 집합. 보통 $\\Omega$로 표기."
   ]
  },
  {
   "cell_type": "markdown",
   "metadata": {},
   "source": [
    "# Random Variable\n",
    "\n",
    "Sample space의 sample을 분석가능한 1차원의 실수(real-number)의 세계로 옮겨주는 **\"함수\"**.<br>\n",
    "즉, sample space를 domain으로 갖고 real-number를 domain으로 갖는 함수<br>\n",
    "\n",
    "숫자만 분석이 가능.<br>\n",
    "Discrete random variable과 continous random variable로 구분됨.<br>"
   ]
  },
  {
   "cell_type": "markdown",
   "metadata": {},
   "source": [
    "# Multivariate Random Variable\n",
    "\n",
    "Sample을 분석가능한 n차원의 실수(real-number)의 세계로 옮겨주는 함수.<br>\n",
    "Sample이 공간의 점으로 표현됨.<br>"
   ]
  },
  {
   "cell_type": "markdown",
   "metadata": {},
   "source": [
    "# Event\n",
    "\n",
    "관심을 갖는 대상들. Sample Space의 부분집합.<br>\n",
    "Random Variable을 통해 얻어진 1차원 실수에서는 특정 구간으로 표현 가능.<br>\n",
    "Multivariate Random Variable을 통해 얻어진 n차원 실수공간(벡터공간)에서는 특정 공간으로 표현 가능.<br>"
   ]
  },
  {
   "cell_type": "markdown",
   "metadata": {},
   "source": [
    "# Probability\n",
    "\n",
    "Event를 입력으로 받아서 probability value를 출력으로 주는 함수."
   ]
  },
  {
   "cell_type": "markdown",
   "metadata": {},
   "source": [
    "# Probability Space\n",
    "\n",
    "Probability value를 할당할 event들을 정의하고 여기에 각각 probability value를 할당한 결과.<br>\n",
    "Sample을 확률적으로 생성하기 위한 모든 준비가 완료된 상태.<br>"
   ]
  },
  {
   "cell_type": "markdown",
   "metadata": {},
   "source": [
    "# References\n",
    "\n",
    "1. [데이터 사이언스 스쿨](https://datascienceschool.net/view-notebook/9341c66303174eea9d35b2e4b6981ed9/)\n",
    "2. "
   ]
  }
 ],
 "metadata": {
  "kernelspec": {
   "display_name": "Python 3",
   "language": "python",
   "name": "python3"
  },
  "language_info": {
   "codemirror_mode": {
    "name": "ipython",
    "version": 3
   },
   "file_extension": ".py",
   "mimetype": "text/x-python",
   "name": "python",
   "nbconvert_exporter": "python",
   "pygments_lexer": "ipython3",
   "version": "3.6.2"
  }
 },
 "nbformat": 4,
 "nbformat_minor": 2
}
