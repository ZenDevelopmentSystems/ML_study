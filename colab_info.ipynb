{
  "nbformat": 4,
  "nbformat_minor": 0,
  "metadata": {
    "colab": {
      "name": "colab_info.ipynb",
      "version": "0.3.2",
      "views": {},
      "default_view": {},
      "provenance": [],
      "collapsed_sections": [],
      "toc_visible": true
    },
    "kernelspec": {
      "name": "python3",
      "display_name": "Python 3"
    },
    "accelerator": "GPU"
  },
  "cells": [
    {
      "metadata": {
        "id": "VUPrG1g7VMr7",
        "colab_type": "text"
      },
      "cell_type": "markdown",
      "source": [
        "## Colab 사용환경"
      ]
    },
    {
      "metadata": {
        "id": "AJWEtd1lUm1C",
        "colab_type": "text"
      },
      "cell_type": "markdown",
      "source": [
        "## OS 정보"
      ]
    },
    {
      "metadata": {
        "id": "XKS8hXIjOmD8",
        "colab_type": "code",
        "colab": {
          "autoexec": {
            "startup": false,
            "wait_interval": 0
          },
          "output_extras": [
            {
              "item_id": 1
            }
          ],
          "base_uri": "https://localhost:8080/",
          "height": 305
        },
        "outputId": "970b2d18-2f49-430d-c4b8-ac1a0449343e",
        "executionInfo": {
          "status": "ok",
          "timestamp": 1522234193889,
          "user_tz": -540,
          "elapsed": 1893,
          "user": {
            "displayName": "Seungbae Ji",
            "photoUrl": "//lh3.googleusercontent.com/-kEuckfN3uig/AAAAAAAAAAI/AAAAAAAAACk/972-CKFBBg8/s50-c-k-no/photo.jpg",
            "userId": "112985730801829923708"
          }
        }
      },
      "cell_type": "code",
      "source": [
        "! cat /etc/*-release | uniq"
      ],
      "execution_count": 8,
      "outputs": [
        {
          "output_type": "stream",
          "text": [
            "DISTRIB_ID=Ubuntu\r\n",
            "DISTRIB_RELEASE=17.10\r\n",
            "DISTRIB_CODENAME=artful\r\n",
            "DISTRIB_DESCRIPTION=\"Ubuntu 17.10\"\r\n",
            "NAME=\"Ubuntu\"\r\n",
            "VERSION=\"17.10 (Artful Aardvark)\"\r\n",
            "ID=ubuntu\r\n",
            "ID_LIKE=debian\r\n",
            "PRETTY_NAME=\"Ubuntu 17.10\"\r\n",
            "VERSION_ID=\"17.10\"\r\n",
            "HOME_URL=\"https://www.ubuntu.com/\"\r\n",
            "SUPPORT_URL=\"https://help.ubuntu.com/\"\r\n",
            "BUG_REPORT_URL=\"https://bugs.launchpad.net/ubuntu/\"\r\n",
            "PRIVACY_POLICY_URL=\"https://www.ubuntu.com/legal/terms-and-policies/privacy-policy\"\r\n",
            "VERSION_CODENAME=artful\r\n",
            "UBUNTU_CODENAME=artful\r\n"
          ],
          "name": "stdout"
        }
      ]
    },
    {
      "metadata": {
        "id": "LmjBSY7IUtUW",
        "colab_type": "text"
      },
      "cell_type": "markdown",
      "source": [
        "## Root path의 하위 폴더"
      ]
    },
    {
      "metadata": {
        "id": "8iVlPgRgBKd_",
        "colab_type": "code",
        "colab": {
          "autoexec": {
            "startup": false,
            "wait_interval": 0
          },
          "output_extras": [
            {
              "item_id": 1
            }
          ],
          "base_uri": "https://localhost:8080/",
          "height": 215
        },
        "outputId": "94a3efa0-4c42-4c29-b0ca-7fcef9a440c3",
        "executionInfo": {
          "status": "ok",
          "timestamp": 1522234211606,
          "user_tz": -540,
          "elapsed": 2819,
          "user": {
            "displayName": "Seungbae Ji",
            "photoUrl": "//lh3.googleusercontent.com/-kEuckfN3uig/AAAAAAAAAAI/AAAAAAAAACk/972-CKFBBg8/s50-c-k-no/photo.jpg",
            "userId": "112985730801829923708"
          }
        }
      },
      "cell_type": "code",
      "source": [
        "!ls -al"
      ],
      "execution_count": 9,
      "outputs": [
        {
          "output_type": "stream",
          "text": [
            "total 40\r\n",
            "drwxr-xr-x 1 root root 4096 Mar 28 10:48 .\r\n",
            "drwxr-xr-x 1 root root 4096 Mar 28 10:41 ..\r\n",
            "drwx------ 4 root root 4096 Mar 28 10:47 .cache\r\n",
            "drwxr-xr-x 3 root root 4096 Mar 28 10:47 .config\r\n",
            "drwxr-xr-x 1 root root 4096 Mar 13 21:48 datalab\r\n",
            "drwxr-xr-x 4 root root 4096 Mar 28 10:42 .forever\r\n",
            "drwxr-xr-x 5 root root 4096 Mar 28 10:47 .ipython\r\n",
            "drwxr-xr-x 2 root root 4096 Mar 28 10:48 .keras\r\n",
            "drwx------ 3 root root 4096 Mar 28 10:42 .local\r\n",
            "-rw------- 1 root root 1024 Mar 28 10:42 .rnd\r\n"
          ],
          "name": "stdout"
        }
      ]
    },
    {
      "metadata": {
        "id": "d_GLB4KgVE80",
        "colab_type": "text"
      },
      "cell_type": "markdown",
      "source": [
        "## 텐서플로우 및 파이썬 버전"
      ]
    },
    {
      "metadata": {
        "id": "mLhe5tsgHaQc",
        "colab_type": "code",
        "colab": {
          "autoexec": {
            "startup": false,
            "wait_interval": 0
          },
          "output_extras": [
            {
              "item_id": 1
            }
          ],
          "base_uri": "https://localhost:8080/",
          "height": 35
        },
        "outputId": "8fdbe2aa-9f5d-4443-9890-fc636178af47",
        "executionInfo": {
          "status": "ok",
          "timestamp": 1522235887094,
          "user_tz": -540,
          "elapsed": 1458,
          "user": {
            "displayName": "Seungbae Ji",
            "photoUrl": "//lh3.googleusercontent.com/-kEuckfN3uig/AAAAAAAAAAI/AAAAAAAAACk/972-CKFBBg8/s50-c-k-no/photo.jpg",
            "userId": "112985730801829923708"
          }
        }
      },
      "cell_type": "code",
      "source": [
        "import tensorflow as tf\n",
        "tf.__version__"
      ],
      "execution_count": 29,
      "outputs": [
        {
          "output_type": "execute_result",
          "data": {
            "text/plain": [
              "'1.6.0'"
            ]
          },
          "metadata": {
            "tags": []
          },
          "execution_count": 29
        }
      ]
    },
    {
      "metadata": {
        "id": "HYnqJrW_HhQw",
        "colab_type": "code",
        "colab": {
          "autoexec": {
            "startup": false,
            "wait_interval": 0
          },
          "output_extras": [
            {
              "item_id": 1
            }
          ],
          "base_uri": "https://localhost:8080/",
          "height": 35
        },
        "outputId": "2ec430fd-f108-43cd-d007-4dacef248ab8",
        "executionInfo": {
          "status": "ok",
          "timestamp": 1522234124500,
          "user_tz": -540,
          "elapsed": 2935,
          "user": {
            "displayName": "Seungbae Ji",
            "photoUrl": "//lh3.googleusercontent.com/-kEuckfN3uig/AAAAAAAAAAI/AAAAAAAAACk/972-CKFBBg8/s50-c-k-no/photo.jpg",
            "userId": "112985730801829923708"
          }
        }
      },
      "cell_type": "code",
      "source": [
        "! python -V"
      ],
      "execution_count": 5,
      "outputs": [
        {
          "output_type": "stream",
          "text": [
            "Python 3.6.3\r\n"
          ],
          "name": "stdout"
        }
      ]
    },
    {
      "metadata": {
        "id": "AQgcvk77VWx3",
        "colab_type": "text"
      },
      "cell_type": "markdown",
      "source": [
        "## 설치된 패키지"
      ]
    },
    {
      "metadata": {
        "id": "RdLMUrmZHmil",
        "colab_type": "code",
        "colab": {
          "autoexec": {
            "startup": false,
            "wait_interval": 0
          },
          "output_extras": [
            {
              "item_id": 1
            }
          ],
          "base_uri": "https://localhost:8080/",
          "height": 2429
        },
        "outputId": "04c109ee-6c32-432d-cb1a-1c9500213e5d",
        "executionInfo": {
          "status": "ok",
          "timestamp": 1522234130266,
          "user_tz": -540,
          "elapsed": 3194,
          "user": {
            "displayName": "Seungbae Ji",
            "photoUrl": "//lh3.googleusercontent.com/-kEuckfN3uig/AAAAAAAAAAI/AAAAAAAAACk/972-CKFBBg8/s50-c-k-no/photo.jpg",
            "userId": "112985730801829923708"
          }
        }
      },
      "cell_type": "code",
      "source": [
        "! pip list"
      ],
      "execution_count": 6,
      "outputs": [
        {
          "output_type": "stream",
          "text": [
            "Package                                    Version  \r\n",
            "------------------------------------------ ---------\r\n",
            "absl-py                                    0.1.13   \r\n",
            "astor                                      0.6.2    \r\n",
            "beautifulsoup4                             4.6.0    \r\n",
            "bleach                                     1.5.0    \r\n",
            "cachetools                                 2.0.1    \r\n",
            "certifi                                    2018.1.18\r\n",
            "chardet                                    3.0.4    \r\n",
            "crcmod                                     1.7      \r\n",
            "cycler                                     0.10.0   \r\n",
            "decorator                                  4.2.1    \r\n",
            "dill                                       0.2.7.1  \r\n",
            "entrypoints                                0.2.3    \r\n",
            "future                                     0.15.2   \r\n",
            "futures                                    3.0.5    \r\n",
            "gapic-google-cloud-datastore-v1            0.15.3   \r\n",
            "gapic-google-cloud-error-reporting-v1beta1 0.15.3   \r\n",
            "gapic-google-cloud-logging-v2              0.91.3   \r\n",
            "gast                                       0.2.0    \r\n",
            "google-api-core                            0.1.4    \r\n",
            "google-api-python-client                   1.6.5    \r\n",
            "google-auth                                1.3.0    \r\n",
            "google-auth-httplib2                       0.0.3    \r\n",
            "google-auth-oauthlib                       0.2.0    \r\n",
            "google-cloud                               0.32.0   \r\n",
            "google-cloud-bigquery                      0.30.0   \r\n",
            "google-cloud-bigquery-datatransfer         0.1.1    \r\n",
            "google-cloud-bigtable                      0.28.1   \r\n",
            "google-cloud-container                     0.1.1    \r\n",
            "google-cloud-core                          0.28.1   \r\n",
            "google-cloud-datastore                     1.4.0    \r\n",
            "google-cloud-dns                           0.28.0   \r\n",
            "google-cloud-error-reporting               0.28.0   \r\n",
            "google-cloud-firestore                     0.28.0   \r\n",
            "google-cloud-language                      1.0.1    \r\n",
            "google-cloud-logging                       1.4.0    \r\n",
            "google-cloud-monitoring                    0.28.1   \r\n",
            "google-cloud-pubsub                        0.30.1   \r\n",
            "google-cloud-resource-manager              0.28.1   \r\n",
            "google-cloud-runtimeconfig                 0.28.1   \r\n",
            "google-cloud-spanner                       0.29.0   \r\n",
            "google-cloud-speech                        0.30.0   \r\n",
            "google-cloud-storage                       1.6.0    \r\n",
            "google-cloud-trace                         0.17.0   \r\n",
            "google-cloud-translate                     1.3.1    \r\n",
            "google-cloud-videointelligence             1.0.1    \r\n",
            "google-cloud-vision                        0.29.0   \r\n",
            "google-colab                               0.0.1a1  \r\n",
            "google-gax                                 0.15.16  \r\n",
            "google-resumable-media                     0.3.1    \r\n",
            "googleapis-common-protos                   1.5.3    \r\n",
            "grpc-google-iam-v1                         0.11.4   \r\n",
            "grpcio                                     1.10.0   \r\n",
            "h5py                                       2.7.1    \r\n",
            "html5lib                                   0.9999999\r\n",
            "httplib2                                   0.10.3   \r\n",
            "idna                                       2.6      \r\n",
            "ipykernel                                  4.6.1    \r\n",
            "ipython                                    5.5.0    \r\n",
            "ipython-genutils                           0.2.0    \r\n",
            "Jinja2                                     2.8      \r\n",
            "jsonschema                                 2.5.1    \r\n",
            "jupyter-client                             5.2.3    \r\n",
            "jupyter-core                               4.4.0    \r\n",
            "Keras                                      2.1.5    \r\n",
            "Markdown                                   2.6.11   \r\n",
            "MarkupSafe                                 1.0      \r\n",
            "matplotlib                                 2.1.2    \r\n",
            "mistune                                    0.8.3    \r\n",
            "mpmath                                     1.0.0    \r\n",
            "nbconvert                                  5.3.1    \r\n",
            "nbformat                                   4.4.0    \r\n",
            "networkx                                   2.1      \r\n",
            "nltk                                       3.2.1    \r\n",
            "notebook                                   5.2.2    \r\n",
            "numpy                                      1.14.2   \r\n",
            "oauth2client                               4.1.2    \r\n",
            "oauthlib                                   2.0.6    \r\n",
            "olefile                                    0.45.1   \r\n",
            "opencv-python                              3.4.0.12 \r\n",
            "pandas                                     0.22.0   \r\n",
            "pandas-gbq                                 0.3.1    \r\n",
            "pandocfilters                              1.3.0    \r\n",
            "patsy                                      0.5.0    \r\n",
            "pexpect                                    4.4.0    \r\n",
            "pickleshare                                0.7.4    \r\n",
            "Pillow                                     4.0.0    \r\n",
            "pip                                        9.0.1    \r\n",
            "plotly                                     1.12.12  \r\n",
            "ply                                        3.8      \r\n",
            "portpicker                                 1.2.0    \r\n",
            "prompt-toolkit                             1.0.15   \r\n",
            "proto-google-cloud-datastore-v1            0.90.4   \r\n",
            "proto-google-cloud-error-reporting-v1beta1 0.15.3   \r\n",
            "proto-google-cloud-logging-v2              0.91.3   \r\n",
            "protobuf                                   3.5.2    \r\n",
            "psutil                                     4.3.1    \r\n",
            "ptyprocess                                 0.5.2    \r\n",
            "pyasn1                                     0.4.2    \r\n",
            "pyasn1-modules                             0.2.1    \r\n",
            "Pygments                                   2.1.3    \r\n",
            "pyparsing                                  2.2.0    \r\n",
            "python-dateutil                            2.5.3    \r\n",
            "pytz                                       2016.7   \r\n",
            "PyWavelets                                 0.5.2    \r\n",
            "PyYAML                                     3.11     \r\n",
            "pyzmq                                      16.0.4   \r\n",
            "requests                                   2.18.4   \r\n",
            "requests-oauthlib                          0.8.0    \r\n",
            "rsa                                        3.4.2    \r\n",
            "scikit-image                               0.13.1   \r\n",
            "scikit-learn                               0.19.1   \r\n",
            "scipy                                      0.19.1   \r\n",
            "seaborn                                    0.7.1    \r\n",
            "setuptools                                 36.2.7   \r\n",
            "simplegeneric                              0.8.1    \r\n",
            "six                                        1.11.0   \r\n",
            "statsmodels                                0.8.0    \r\n",
            "sympy                                      1.1.1    \r\n",
            "tensorboard                                1.6.0    \r\n",
            "tensorflow                                 1.6.0    \r\n",
            "termcolor                                  1.1.0    \r\n",
            "terminado                                  0.8.1    \r\n",
            "testpath                                   0.3.1    \r\n",
            "tornado                                    4.5.3    \r\n",
            "traitlets                                  4.3.2    \r\n",
            "uritemplate                                3.0.0    \r\n",
            "urllib3                                    1.22     \r\n",
            "wcwidth                                    0.1.7    \r\n",
            "webencodings                               0.5.1    \r\n",
            "Werkzeug                                   0.14.1   \r\n",
            "wheel                                      0.30.0   \r\n",
            "xgboost                                    0.7.post3\r\n"
          ],
          "name": "stdout"
        }
      ]
    },
    {
      "metadata": {
        "id": "-HJ7q6QnVco8",
        "colab_type": "text"
      },
      "cell_type": "markdown",
      "source": [
        "## 디스크 용량"
      ]
    },
    {
      "metadata": {
        "id": "1RRwmYH0JIYM",
        "colab_type": "code",
        "colab": {
          "autoexec": {
            "startup": false,
            "wait_interval": 0
          },
          "output_extras": [
            {
              "item_id": 1
            }
          ],
          "base_uri": "https://localhost:8080/",
          "height": 179
        },
        "outputId": "e0e64512-7693-44f3-9dd5-4bb8952840e0",
        "executionInfo": {
          "status": "ok",
          "timestamp": 1522199214234,
          "user_tz": -540,
          "elapsed": 1979,
          "user": {
            "displayName": "Seungbae Ji",
            "photoUrl": "//lh3.googleusercontent.com/-kEuckfN3uig/AAAAAAAAAAI/AAAAAAAAACk/972-CKFBBg8/s50-c-k-no/photo.jpg",
            "userId": "112985730801829923708"
          }
        }
      },
      "cell_type": "code",
      "source": [
        "!df -h"
      ],
      "execution_count": 7,
      "outputs": [
        {
          "output_type": "stream",
          "text": [
            "Filesystem      Size  Used Avail Use% Mounted on\r\n",
            "overlay         359G  5.8G  335G   2% /\r\n",
            "tmpfs           6.4G     0  6.4G   0% /dev\r\n",
            "tmpfs           6.4G     0  6.4G   0% /sys/fs/cgroup\r\n",
            "/dev/root       1.2G  537M  684M  44% /opt/bin\r\n",
            "tmpfs           6.4G  220M  6.2G   4% /usr/lib64-nvidia\r\n",
            "/dev/sda1       365G  7.2G  358G   2% /etc/hosts\r\n",
            "shm              64M     0   64M   0% /dev/shm\r\n",
            "tmpfs           6.4G     0  6.4G   0% /sys/firmware\r\n"
          ],
          "name": "stdout"
        }
      ]
    },
    {
      "metadata": {
        "id": "c1i1ll41Vmpr",
        "colab_type": "text"
      },
      "cell_type": "markdown",
      "source": [
        "## 메모리 정보"
      ]
    },
    {
      "metadata": {
        "id": "dwvLMGG8JVcn",
        "colab_type": "code",
        "colab": {
          "autoexec": {
            "startup": false,
            "wait_interval": 0
          },
          "output_extras": [
            {
              "item_id": 1
            }
          ],
          "base_uri": "https://localhost:8080/",
          "height": 791
        },
        "outputId": "384db71a-31f8-4a29-82ab-0add3fa45ce8",
        "executionInfo": {
          "status": "ok",
          "timestamp": 1522199359925,
          "user_tz": -540,
          "elapsed": 2254,
          "user": {
            "displayName": "Seungbae Ji",
            "photoUrl": "//lh3.googleusercontent.com/-kEuckfN3uig/AAAAAAAAAAI/AAAAAAAAACk/972-CKFBBg8/s50-c-k-no/photo.jpg",
            "userId": "112985730801829923708"
          }
        }
      },
      "cell_type": "code",
      "source": [
        "! cat /proc/meminfo"
      ],
      "execution_count": 9,
      "outputs": [
        {
          "output_type": "stream",
          "text": [
            "MemTotal:       13341832 kB\r\n",
            "MemFree:         1504684 kB\r\n",
            "MemAvailable:   12436424 kB\r\n",
            "Buffers:          123420 kB\r\n",
            "Cached:         10704748 kB\r\n",
            "SwapCached:            0 kB\r\n",
            "Active:          2899780 kB\r\n",
            "Inactive:        8250100 kB\r\n",
            "Active(anon):     486740 kB\r\n",
            "Inactive(anon):    60884 kB\r\n",
            "Active(file):    2413040 kB\r\n",
            "Inactive(file):  8189216 kB\r\n",
            "Unevictable:           0 kB\r\n",
            "Mlocked:               0 kB\r\n",
            "SwapTotal:             0 kB\r\n",
            "SwapFree:              0 kB\r\n",
            "Dirty:               388 kB\r\n",
            "Writeback:             0 kB\r\n",
            "AnonPages:        321912 kB\r\n",
            "Mapped:           188200 kB\r\n",
            "Shmem:            225848 kB\r\n",
            "Slab:             609432 kB\r\n",
            "SReclaimable:     582900 kB\r\n",
            "SUnreclaim:        26532 kB\r\n",
            "KernelStack:        3168 kB\r\n",
            "PageTables:         4568 kB\r\n",
            "NFS_Unstable:          0 kB\r\n",
            "Bounce:                0 kB\r\n",
            "WritebackTmp:          0 kB\r\n",
            "CommitLimit:     6670916 kB\r\n",
            "Committed_AS:    1581748 kB\r\n",
            "VmallocTotal:   34359738367 kB\r\n",
            "VmallocUsed:           0 kB\r\n",
            "VmallocChunk:          0 kB\r\n",
            "AnonHugePages:         0 kB\r\n",
            "HugePages_Total:       0\r\n",
            "HugePages_Free:        0\r\n",
            "HugePages_Rsvd:        0\r\n",
            "HugePages_Surp:        0\r\n",
            "Hugepagesize:       2048 kB\r\n",
            "DirectMap4k:       83916 kB\r\n",
            "DirectMap2M:     3061760 kB\r\n",
            "DirectMap1G:    12582912 kB\r\n"
          ],
          "name": "stdout"
        }
      ]
    },
    {
      "metadata": {
        "id": "E2ZHgh1AVp-g",
        "colab_type": "text"
      },
      "cell_type": "markdown",
      "source": [
        "## CPU 정보"
      ]
    },
    {
      "metadata": {
        "id": "fi49FtYqJuiZ",
        "colab_type": "code",
        "colab": {
          "autoexec": {
            "startup": false,
            "wait_interval": 0
          },
          "output_extras": [
            {
              "item_id": 1
            }
          ],
          "base_uri": "https://localhost:8080/",
          "height": 1009
        },
        "outputId": "8ead2fe0-f99f-4e47-cb54-438ea5f47a3a",
        "executionInfo": {
          "status": "ok",
          "timestamp": 1522199373396,
          "user_tz": -540,
          "elapsed": 2509,
          "user": {
            "displayName": "Seungbae Ji",
            "photoUrl": "//lh3.googleusercontent.com/-kEuckfN3uig/AAAAAAAAAAI/AAAAAAAAACk/972-CKFBBg8/s50-c-k-no/photo.jpg",
            "userId": "112985730801829923708"
          }
        }
      },
      "cell_type": "code",
      "source": [
        "! cat /proc/cpuinfo"
      ],
      "execution_count": 10,
      "outputs": [
        {
          "output_type": "stream",
          "text": [
            "processor\t: 0\r\n",
            "vendor_id\t: GenuineIntel\r\n",
            "cpu family\t: 6\r\n",
            "model\t\t: 63\r\n",
            "model name\t: Intel(R) Xeon(R) CPU @ 2.30GHz\r\n",
            "stepping\t: 0\r\n",
            "microcode\t: 0x1\r\n",
            "cpu MHz\t\t: 2300.000\r\n",
            "cache size\t: 46080 KB\r\n",
            "physical id\t: 0\r\n",
            "siblings\t: 2\r\n",
            "core id\t\t: 0\r\n",
            "cpu cores\t: 1\r\n",
            "apicid\t\t: 0\r\n",
            "initial apicid\t: 0\r\n",
            "fpu\t\t: yes\r\n",
            "fpu_exception\t: yes\r\n",
            "cpuid level\t: 13\r\n",
            "wp\t\t: yes\r\n",
            "flags\t\t: fpu vme de pse tsc msr pae mce cx8 apic sep mtrr pge mca cmov pat pse36 clflush mmx fxsr sse sse2 ss ht syscall nx pdpe1gb rdtscp lm constant_tsc rep_good nopl xtopology nonstop_tsc eagerfpu pni pclmulqdq ssse3 fma cx16 sse4_1 sse4_2 x2apic movbe popcnt aes xsave avx f16c rdrand hypervisor lahf_lm abm kaiser fsgsbase tsc_adjust bmi1 avx2 smep bmi2 erms xsaveopt\r\n",
            "bugs\t\t:\r\n",
            "bogomips\t: 4600.00\r\n",
            "clflush size\t: 64\r\n",
            "cache_alignment\t: 64\r\n",
            "address sizes\t: 46 bits physical, 48 bits virtual\r\n",
            "power management:\r\n",
            "\r\n",
            "processor\t: 1\r\n",
            "vendor_id\t: GenuineIntel\r\n",
            "cpu family\t: 6\r\n",
            "model\t\t: 63\r\n",
            "model name\t: Intel(R) Xeon(R) CPU @ 2.30GHz\r\n",
            "stepping\t: 0\r\n",
            "microcode\t: 0x1\r\n",
            "cpu MHz\t\t: 2300.000\r\n",
            "cache size\t: 46080 KB\r\n",
            "physical id\t: 0\r\n",
            "siblings\t: 2\r\n",
            "core id\t\t: 0\r\n",
            "cpu cores\t: 1\r\n",
            "apicid\t\t: 1\r\n",
            "initial apicid\t: 1\r\n",
            "fpu\t\t: yes\r\n",
            "fpu_exception\t: yes\r\n",
            "cpuid level\t: 13\r\n",
            "wp\t\t: yes\r\n",
            "flags\t\t: fpu vme de pse tsc msr pae mce cx8 apic sep mtrr pge mca cmov pat pse36 clflush mmx fxsr sse sse2 ss ht syscall nx pdpe1gb rdtscp lm constant_tsc rep_good nopl xtopology nonstop_tsc eagerfpu pni pclmulqdq ssse3 fma cx16 sse4_1 sse4_2 x2apic movbe popcnt aes xsave avx f16c rdrand hypervisor lahf_lm abm kaiser fsgsbase tsc_adjust bmi1 avx2 smep bmi2 erms xsaveopt\r\n",
            "bugs\t\t:\r\n",
            "bogomips\t: 4600.00\r\n",
            "clflush size\t: 64\r\n",
            "cache_alignment\t: 64\r\n",
            "address sizes\t: 46 bits physical, 48 bits virtual\r\n",
            "power management:\r\n",
            "\r\n"
          ],
          "name": "stdout"
        }
      ]
    },
    {
      "metadata": {
        "id": "UFHHTyO9Vvsl",
        "colab_type": "text"
      },
      "cell_type": "markdown",
      "source": [
        "## GPU 정보"
      ]
    },
    {
      "metadata": {
        "id": "ntM-he5YJxw0",
        "colab_type": "code",
        "colab": {
          "autoexec": {
            "startup": false,
            "wait_interval": 0
          },
          "output_extras": [
            {
              "item_id": 1
            }
          ],
          "base_uri": "https://localhost:8080/",
          "height": 271
        },
        "outputId": "e33f66bb-5480-4217-be4b-cff46a76719a",
        "executionInfo": {
          "status": "ok",
          "timestamp": 1522234812822,
          "user_tz": -540,
          "elapsed": 2065,
          "user": {
            "displayName": "Seungbae Ji",
            "photoUrl": "//lh3.googleusercontent.com/-kEuckfN3uig/AAAAAAAAAAI/AAAAAAAAACk/972-CKFBBg8/s50-c-k-no/photo.jpg",
            "userId": "112985730801829923708"
          }
        }
      },
      "cell_type": "code",
      "source": [
        "from tensorflow.python.client import device_lib\n",
        "device_lib.list_local_devices()"
      ],
      "execution_count": 13,
      "outputs": [
        {
          "output_type": "execute_result",
          "data": {
            "text/plain": [
              "[name: \"/device:CPU:0\"\n",
              " device_type: \"CPU\"\n",
              " memory_limit: 268435456\n",
              " locality {\n",
              " }\n",
              " incarnation: 278232184601558742, name: \"/device:GPU:0\"\n",
              " device_type: \"GPU\"\n",
              " memory_limit: 11288962663\n",
              " locality {\n",
              "   bus_id: 1\n",
              " }\n",
              " incarnation: 5501349857337196170\n",
              " physical_device_desc: \"device: 0, name: Tesla K80, pci bus id: 0000:00:04.0, compute capability: 3.7\"]"
            ]
          },
          "metadata": {
            "tags": []
          },
          "execution_count": 13
        }
      ]
    },
    {
      "metadata": {
        "id": "en1qUM9yV2ae",
        "colab_type": "text"
      },
      "cell_type": "markdown",
      "source": [
        "## 구글드라이브내 폴더와 연동"
      ]
    },
    {
      "metadata": {
        "id": "pkyuJn7mR5ax",
        "colab_type": "code",
        "colab": {
          "autoexec": {
            "startup": false,
            "wait_interval": 0
          },
          "output_extras": [
            {
              "item_id": 4
            }
          ],
          "base_uri": "https://localhost:8080/",
          "height": 109
        },
        "outputId": "c8f67a08-ccc9-41f1-e769-c4bdf88e7bb0",
        "executionInfo": {
          "status": "ok",
          "timestamp": 1522235200966,
          "user_tz": -540,
          "elapsed": 24641,
          "user": {
            "displayName": "Seungbae Ji",
            "photoUrl": "//lh3.googleusercontent.com/-kEuckfN3uig/AAAAAAAAAAI/AAAAAAAAACk/972-CKFBBg8/s50-c-k-no/photo.jpg",
            "userId": "112985730801829923708"
          }
        }
      },
      "cell_type": "code",
      "source": [
        "!apt-get install -y -qq software-properties-common python-software-properties module-init-tools\n",
        "!add-apt-repository -y ppa:alessandro-strada/ppa 2>&1 > /dev/null\n",
        "!apt-get update -qq 2>&1 > /dev/null\n",
        "!apt-get -y install -qq google-drive-ocamlfuse fuse\n",
        "from google.colab import auth\n",
        "auth.authenticate_user()\n",
        "from oauth2client.client import GoogleCredentials\n",
        "creds = GoogleCredentials.get_application_default()\n",
        "import getpass\n",
        "!google-drive-ocamlfuse -headless -id={creds.client_id} -secret={creds.client_secret} < /dev/null 2>&1 | grep URL\n",
        "vcode = getpass.getpass()\n",
        "!echo {vcode} | google-drive-ocamlfuse -headless -id={creds.client_id} -secret={creds.client_secret}"
      ],
      "execution_count": 14,
      "outputs": [
        {
          "output_type": "stream",
          "text": [
            "Please, open the following URL in a web browser: https://accounts.google.com/o/oauth2/auth?client_id=32555940559.apps.googleusercontent.com&redirect_uri=urn%3Aietf%3Awg%3Aoauth%3A2.0%3Aoob&scope=https%3A%2F%2Fwww.googleapis.com%2Fauth%2Fdrive&response_type=code&access_type=offline&approval_prompt=force\r\n",
            "··········\n",
            "Please, open the following URL in a web browser: https://accounts.google.com/o/oauth2/auth?client_id=32555940559.apps.googleusercontent.com&redirect_uri=urn%3Aietf%3Awg%3Aoauth%3A2.0%3Aoob&scope=https%3A%2F%2Fwww.googleapis.com%2Fauth%2Fdrive&response_type=code&access_type=offline&approval_prompt=force\n",
            "Please enter the verification code: Access token retrieved correctly.\n"
          ],
          "name": "stdout"
        }
      ]
    },
    {
      "metadata": {
        "id": "Kz9divFSNAL2",
        "colab_type": "code",
        "colab": {
          "autoexec": {
            "startup": false,
            "wait_interval": 0
          }
        }
      },
      "cell_type": "code",
      "source": [
        "!mkdir -p drive\n",
        "!google-drive-ocamlfuse drive"
      ],
      "execution_count": 0,
      "outputs": []
    },
    {
      "metadata": {
        "id": "jKXovhXPT2gm",
        "colab_type": "code",
        "colab": {
          "autoexec": {
            "startup": false,
            "wait_interval": 0
          },
          "output_extras": [
            {
              "item_id": 1
            }
          ],
          "base_uri": "https://localhost:8080/",
          "height": 197
        },
        "outputId": "9f0be670-559f-434c-af79-c58ab68e7562",
        "executionInfo": {
          "status": "ok",
          "timestamp": 1522235572728,
          "user_tz": -540,
          "elapsed": 3466,
          "user": {
            "displayName": "Seungbae Ji",
            "photoUrl": "//lh3.googleusercontent.com/-kEuckfN3uig/AAAAAAAAAAI/AAAAAAAAACk/972-CKFBBg8/s50-c-k-no/photo.jpg",
            "userId": "112985730801829923708"
          }
        }
      },
      "cell_type": "code",
      "source": [
        "!df -h"
      ],
      "execution_count": 28,
      "outputs": [
        {
          "output_type": "stream",
          "text": [
            "Filesystem              Size  Used Avail Use% Mounted on\r\n",
            "overlay                 359G  5.8G  335G   2% /\r\n",
            "tmpfs                   6.4G     0  6.4G   0% /dev\r\n",
            "tmpfs                   6.4G     0  6.4G   0% /sys/fs/cgroup\r\n",
            "/dev/root               1.2G  537M  684M  44% /opt/bin\r\n",
            "tmpfs                   6.4G  220M  6.2G   4% /usr/lib64-nvidia\r\n",
            "/dev/sda1               365G  7.3G  358G   2% /etc/hosts\r\n",
            "shm                      64M     0   64M   0% /dev/shm\r\n",
            "tmpfs                   6.4G     0  6.4G   0% /sys/firmware\r\n",
            "google-drive-ocamlfuse   15G  4.6G   11G  31% /content/drive\r\n"
          ],
          "name": "stdout"
        }
      ]
    },
    {
      "metadata": {
        "id": "yMLhKQ7qNAdB",
        "colab_type": "code",
        "colab": {
          "autoexec": {
            "startup": false,
            "wait_interval": 0
          },
          "output_extras": [
            {
              "item_id": 1
            }
          ],
          "base_uri": "https://localhost:8080/",
          "height": 143
        },
        "outputId": "0cb45f4d-5257-4cc6-f706-4d499661578f",
        "executionInfo": {
          "status": "ok",
          "timestamp": 1522235497647,
          "user_tz": -540,
          "elapsed": 5943,
          "user": {
            "displayName": "Seungbae Ji",
            "photoUrl": "//lh3.googleusercontent.com/-kEuckfN3uig/AAAAAAAAAAI/AAAAAAAAACk/972-CKFBBg8/s50-c-k-no/photo.jpg",
            "userId": "112985730801829923708"
          }
        }
      },
      "cell_type": "code",
      "source": [
        "!cd drive;cd Study;cd ML;ls -al"
      ],
      "execution_count": 23,
      "outputs": [
        {
          "output_type": "stream",
          "text": [
            "total 366\r\n",
            "drwxr-xr-x 2 root root   4096 Mar 28 08:55 .\r\n",
            "drwxr-xr-x 2 root root   4096 Mar 28 08:55 ..\r\n",
            "-rw-r--r-- 1 root root  26606 Mar 28 11:11 colab_info.ipynb\r\n",
            "-rw-r--r-- 1 root root 170441 Mar 27 09:45 lstm_autoencoder.pptx\r\n",
            "-r--r--r-- 1 root root 157346 Mar 28 02:28 lstm_autoencoder.pptx.pdf\r\n",
            "-r--r--r-- 1 root root  10801 Mar 28 10:45 LSTM.odt\r\n"
          ],
          "name": "stdout"
        }
      ]
    }
  ]
}