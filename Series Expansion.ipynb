{
 "cells": [
  {
   "cell_type": "markdown",
   "metadata": {},
   "source": [
    "# Series Expansion\n",
    "\n",
    "\n",
    "Series expansion은 미지의 함수 $f(x)$를 근사 다항함수(polynomial)로 표현하는 것. 보통 `Taylor series`가 많이 사용.<br>\n",
    "Series exapnsion을 하는 이유는, 우리가 \"**잘 모르거나 복잡한 함수\"**를 **\"다루기 쉽고 이해하기 쉬운 다항함수로 대체\"**시키기 위함.<br>\n",
    "**잘 이해하고 있는 다항함수**로 대체하게 되면 함수의 특성을 분석하기가 좀 더 용이해짐<br>"
   ]
  },
  {
   "cell_type": "markdown",
   "metadata": {
    "collapsed": true
   },
   "source": [
    "## Taylor Series\n",
    "\n",
    "\n",
    "\n",
    "주의 사항은 모든 $x$에 대해 같은 것이 아니라 **\"$x = a$ 근처\"**에서만 성립한다는 점.<br>"
   ]
  },
  {
   "cell_type": "code",
   "execution_count": 1,
   "metadata": {
    "collapsed": true
   },
   "outputs": [],
   "source": [
    "import sympy"
   ]
  },
  {
   "cell_type": "code",
   "execution_count": null,
   "metadata": {
    "collapsed": true
   },
   "outputs": [],
   "source": []
  },
  {
   "cell_type": "code",
   "execution_count": null,
   "metadata": {
    "collapsed": true
   },
   "outputs": [],
   "source": []
  },
  {
   "cell_type": "code",
   "execution_count": null,
   "metadata": {
    "collapsed": true
   },
   "outputs": [],
   "source": []
  },
  {
   "cell_type": "markdown",
   "metadata": {
    "collapsed": true
   },
   "source": [
    "## References\n",
    "\n",
    "1. http://darkpgmr.tistory.com/59\n",
    "2. "
   ]
  }
 ],
 "metadata": {
  "kernelspec": {
   "display_name": "Python 3",
   "language": "python",
   "name": "python3"
  },
  "language_info": {
   "codemirror_mode": {
    "name": "ipython",
    "version": 3
   },
   "file_extension": ".py",
   "mimetype": "text/x-python",
   "name": "python",
   "nbconvert_exporter": "python",
   "pygments_lexer": "ipython3",
   "version": "3.6.2"
  }
 },
 "nbformat": 4,
 "nbformat_minor": 2
}
